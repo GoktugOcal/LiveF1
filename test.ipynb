{
 "cells": [
  {
   "cell_type": "code",
   "execution_count": 1,
   "id": "12f8e5f3",
   "metadata": {},
   "outputs": [],
   "source": [
    "import livef1"
   ]
  },
  {
   "cell_type": "code",
   "execution_count": 2,
   "id": "e688a407",
   "metadata": {},
   "outputs": [],
   "source": [
    "season = livef1.get_season(2025)"
   ]
  },
  {
   "cell_type": "code",
   "execution_count": 3,
   "metadata": {},
   "outputs": [
    {
     "data": {
      "text/html": [
       "<div>\n",
       "<style scoped>\n",
       "    .dataframe tbody tr th:only-of-type {\n",
       "        vertical-align: middle;\n",
       "    }\n",
       "\n",
       "    .dataframe tbody tr th {\n",
       "        vertical-align: top;\n",
       "    }\n",
       "\n",
       "    .dataframe thead th {\n",
       "        text-align: right;\n",
       "    }\n",
       "</style>\n",
       "<table border=\"1\" class=\"dataframe\">\n",
       "  <thead>\n",
       "    <tr style=\"text-align: right;\">\n",
       "      <th></th>\n",
       "      <th>Meeting Shortname</th>\n",
       "      <th>Meeting Offname</th>\n",
       "      <th>Session Name</th>\n",
       "      <th>Start Date</th>\n",
       "      <th>End Date</th>\n",
       "    </tr>\n",
       "  </thead>\n",
       "  <tbody>\n",
       "    <tr>\n",
       "      <th>0</th>\n",
       "      <td>2025 F1 Pre-Season Testing</td>\n",
       "      <td>FORMULA 1 ARAMCO PRE-SEASON TESTING 2025</td>\n",
       "      <td>Day 1</td>\n",
       "      <td>2025-02-26 07:00:00</td>\n",
       "      <td>2025-02-26 16:00:00</td>\n",
       "    </tr>\n",
       "    <tr>\n",
       "      <th>1</th>\n",
       "      <td>2025 F1 Pre-Season Testing</td>\n",
       "      <td>FORMULA 1 ARAMCO PRE-SEASON TESTING 2025</td>\n",
       "      <td>Day 2</td>\n",
       "      <td>2025-02-27 07:00:00</td>\n",
       "      <td>2025-02-27 16:00:00</td>\n",
       "    </tr>\n",
       "    <tr>\n",
       "      <th>2</th>\n",
       "      <td>2025 F1 Pre-Season Testing</td>\n",
       "      <td>FORMULA 1 ARAMCO PRE-SEASON TESTING 2025</td>\n",
       "      <td>Day 3</td>\n",
       "      <td>2025-02-28 07:00:00</td>\n",
       "      <td>2025-02-28 16:00:00</td>\n",
       "    </tr>\n",
       "    <tr>\n",
       "      <th>3</th>\n",
       "      <td>Australian</td>\n",
       "      <td>FORMULA 1 LOUIS VUITTON AUSTRALIAN GRAND PRIX ...</td>\n",
       "      <td>Practice 1</td>\n",
       "      <td>2025-03-14 01:30:00</td>\n",
       "      <td>2025-03-14 02:30:00</td>\n",
       "    </tr>\n",
       "    <tr>\n",
       "      <th>4</th>\n",
       "      <td>Australian</td>\n",
       "      <td>FORMULA 1 LOUIS VUITTON AUSTRALIAN GRAND PRIX ...</td>\n",
       "      <td>Practice 2</td>\n",
       "      <td>2025-03-14 05:00:00</td>\n",
       "      <td>2025-03-14 06:00:00</td>\n",
       "    </tr>\n",
       "    <tr>\n",
       "      <th>...</th>\n",
       "      <td>...</td>\n",
       "      <td>...</td>\n",
       "      <td>...</td>\n",
       "      <td>...</td>\n",
       "      <td>...</td>\n",
       "    </tr>\n",
       "    <tr>\n",
       "      <th>118</th>\n",
       "      <td>Abu Dhabi</td>\n",
       "      <td>FORMULA 1 ETIHAD AIRWAYS ABU DHABI GRAND PRIX ...</td>\n",
       "      <td>Practice 1</td>\n",
       "      <td>2025-12-05 09:30:00</td>\n",
       "      <td>2025-12-05 10:30:00</td>\n",
       "    </tr>\n",
       "    <tr>\n",
       "      <th>119</th>\n",
       "      <td>Abu Dhabi</td>\n",
       "      <td>FORMULA 1 ETIHAD AIRWAYS ABU DHABI GRAND PRIX ...</td>\n",
       "      <td>Practice 2</td>\n",
       "      <td>2025-12-05 13:00:00</td>\n",
       "      <td>2025-12-05 14:00:00</td>\n",
       "    </tr>\n",
       "    <tr>\n",
       "      <th>120</th>\n",
       "      <td>Abu Dhabi</td>\n",
       "      <td>FORMULA 1 ETIHAD AIRWAYS ABU DHABI GRAND PRIX ...</td>\n",
       "      <td>Practice 3</td>\n",
       "      <td>2025-12-06 10:30:00</td>\n",
       "      <td>2025-12-06 11:30:00</td>\n",
       "    </tr>\n",
       "    <tr>\n",
       "      <th>121</th>\n",
       "      <td>Abu Dhabi</td>\n",
       "      <td>FORMULA 1 ETIHAD AIRWAYS ABU DHABI GRAND PRIX ...</td>\n",
       "      <td>Qualifying</td>\n",
       "      <td>2025-12-06 14:00:00</td>\n",
       "      <td>2025-12-06 15:00:00</td>\n",
       "    </tr>\n",
       "    <tr>\n",
       "      <th>122</th>\n",
       "      <td>Abu Dhabi</td>\n",
       "      <td>FORMULA 1 ETIHAD AIRWAYS ABU DHABI GRAND PRIX ...</td>\n",
       "      <td>Race</td>\n",
       "      <td>2025-12-07 13:00:00</td>\n",
       "      <td>NaT</td>\n",
       "    </tr>\n",
       "  </tbody>\n",
       "</table>\n",
       "<p>123 rows × 5 columns</p>\n",
       "</div>"
      ],
      "text/plain": [
       "              Meeting Shortname  \\\n",
       "0    2025 F1 Pre-Season Testing   \n",
       "1    2025 F1 Pre-Season Testing   \n",
       "2    2025 F1 Pre-Season Testing   \n",
       "3                    Australian   \n",
       "4                    Australian   \n",
       "..                          ...   \n",
       "118                   Abu Dhabi   \n",
       "119                   Abu Dhabi   \n",
       "120                   Abu Dhabi   \n",
       "121                   Abu Dhabi   \n",
       "122                   Abu Dhabi   \n",
       "\n",
       "                                       Meeting Offname Session Name  \\\n",
       "0             FORMULA 1 ARAMCO PRE-SEASON TESTING 2025        Day 1   \n",
       "1             FORMULA 1 ARAMCO PRE-SEASON TESTING 2025        Day 2   \n",
       "2             FORMULA 1 ARAMCO PRE-SEASON TESTING 2025        Day 3   \n",
       "3    FORMULA 1 LOUIS VUITTON AUSTRALIAN GRAND PRIX ...   Practice 1   \n",
       "4    FORMULA 1 LOUIS VUITTON AUSTRALIAN GRAND PRIX ...   Practice 2   \n",
       "..                                                 ...          ...   \n",
       "118  FORMULA 1 ETIHAD AIRWAYS ABU DHABI GRAND PRIX ...   Practice 1   \n",
       "119  FORMULA 1 ETIHAD AIRWAYS ABU DHABI GRAND PRIX ...   Practice 2   \n",
       "120  FORMULA 1 ETIHAD AIRWAYS ABU DHABI GRAND PRIX ...   Practice 3   \n",
       "121  FORMULA 1 ETIHAD AIRWAYS ABU DHABI GRAND PRIX ...   Qualifying   \n",
       "122  FORMULA 1 ETIHAD AIRWAYS ABU DHABI GRAND PRIX ...         Race   \n",
       "\n",
       "             Start Date            End Date  \n",
       "0   2025-02-26 07:00:00 2025-02-26 16:00:00  \n",
       "1   2025-02-27 07:00:00 2025-02-27 16:00:00  \n",
       "2   2025-02-28 07:00:00 2025-02-28 16:00:00  \n",
       "3   2025-03-14 01:30:00 2025-03-14 02:30:00  \n",
       "4   2025-03-14 05:00:00 2025-03-14 06:00:00  \n",
       "..                  ...                 ...  \n",
       "118 2025-12-05 09:30:00 2025-12-05 10:30:00  \n",
       "119 2025-12-05 13:00:00 2025-12-05 14:00:00  \n",
       "120 2025-12-06 10:30:00 2025-12-06 11:30:00  \n",
       "121 2025-12-06 14:00:00 2025-12-06 15:00:00  \n",
       "122 2025-12-07 13:00:00                 NaT  \n",
       "\n",
       "[123 rows x 5 columns]"
      ]
     },
     "execution_count": 3,
     "metadata": {},
     "output_type": "execute_result"
    }
   ],
   "source": [
    "schedule = season.get_schedule()\n",
    "\n",
    "schedule"
   ]
  },
  {
   "cell_type": "code",
   "execution_count": 4,
   "id": "28f30bea",
   "metadata": {},
   "outputs": [],
   "source": [
    "schedule.to_csv(\"2025_schedule.csv\", index=False)"
   ]
  },
  {
   "cell_type": "code",
   "execution_count": null,
   "id": "cc3e7b4b",
   "metadata": {},
   "outputs": [],
   "source": [
    "livef1.get_meeting(2025, circuit)"
   ]
  },
  {
   "cell_type": "code",
   "execution_count": 24,
   "id": "78375f72",
   "metadata": {},
   "outputs": [
    {
     "name": "stdout",
     "output_type": "stream",
     "text": [
      "Meeting Circuit Shortname                  Spain\n",
      "Session Name                          Practice 1\n",
      "Start Date                   2025-05-30 11:30:00\n",
      "End Date                     2025-05-30 12:30:00\n",
      "Name: FORMULA 1 ARAMCO GRAN PREMIO DE ESPAÑA 2025, dtype: object\n"
     ]
    },
    {
     "name": "stderr",
     "output_type": "stream",
     "text": [
      "16:07:58 - The identifier couldn't be found.\n",
      "16:07:58 - LiveF1Error - \n",
      "The searched query 'Spain' not found in the table. Did you mean one of these :\n",
      "\n",
      "\tMeeting Offname : FORMULA 1 ARAMCO GRAN PREMIO DE ESPAÑA 2025\n",
      "\tMeeting Name : Spanish Grand Prix\n",
      "\tMeeting Circuit Shortname : Catalunya\n",
      "\t> Suggested search queries : [['aramco', 'gran', 'premio', 'de', 'españa', '2025'], ['spanish'], ['catalunya']]\n",
      "\n",
      "\tMeeting Offname : FORMULA 1 GULF AIR BAHRAIN GRAND PRIX 2025\n",
      "\tMeeting Name : Bahrain Grand Prix\n",
      "\tMeeting Circuit Shortname : Sakhir\n",
      "\t> Suggested search queries : [['gulf', 'air', 'bahrain', '2025'], ['bahrain'], ['sakhir']]\n",
      "\n",
      "\tMeeting Offname : FORMULA 1 ARAMCO PRE-SEASON TESTING 2025\n",
      "\tMeeting Name : Pre-Season Testing\n",
      "\tMeeting Circuit Shortname : Sakhir\n",
      "\t> Suggested search queries : [['aramco', 'pre', 'season', 'testing', '2025'], ['pre', 'season', 'testing'], ['sakhir']]\n",
      "\n",
      "\n",
      "16:08:00 - The identifier couldn't be found.\n",
      "16:08:00 - LiveF1Error - \n",
      "The searched query 'Spain' not found in the table. Did you mean one of these :\n",
      "\n",
      "\tMeeting Offname : FORMULA 1 ARAMCO GRAN PREMIO DE ESPAÑA 2024\n",
      "\tMeeting Name : Spanish Grand Prix\n",
      "\tMeeting Circuit Shortname : Catalunya\n",
      "\t> Suggested search queries : [['aramco', 'gran', 'premio', 'de', 'españa', '2024'], ['spanish'], ['catalunya']]\n",
      "\n",
      "\tMeeting Offname : FORMULA 1 PIRELLI UNITED STATES GRAND PRIX 2024\n",
      "\tMeeting Name : United States Grand Prix\n",
      "\tMeeting Circuit Shortname : Austin\n",
      "\t> Suggested search queries : [['pirelli', 'united', 'states', '2024'], ['united', 'states'], ['austin']]\n",
      "\n",
      "\tMeeting Offname : FORMULA 1 QATAR AIRWAYS QATAR GRAND PRIX 2024\n",
      "\tMeeting Name : Qatar Grand Prix\n",
      "\tMeeting Circuit Shortname : Lusail\n",
      "\t> Suggested search queries : [['qatar', 'airways', 'qatar', '2024'], ['qatar'], ['lusail']]\n",
      "\n",
      "\n",
      "16:08:03 - The identifier couldn't be found.\n",
      "16:08:03 - LiveF1Error - \n",
      "The searched query 'Spain' not found in the table. Did you mean one of these :\n",
      "\n",
      "\tMeeting Offname : FORMULA 1 AWS GRAN PREMIO DE ESPAÑA 2023\n",
      "\tMeeting Name : Spanish Grand Prix\n",
      "\tMeeting Circuit Shortname : Catalunya\n",
      "\t> Suggested search queries : [['aws', 'gran', 'premio', 'de', 'españa', '2023'], ['spanish'], ['catalunya']]\n",
      "\n",
      "\tMeeting Offname : FORMULA 1 LENOVO UNITED STATES GRAND PRIX 2023\n",
      "\tMeeting Name : United States Grand Prix\n",
      "\tMeeting Circuit Shortname : Austin\n",
      "\t> Suggested search queries : [['lenovo', 'united', 'states', '2023'], ['united', 'states'], ['austin']]\n",
      "\n",
      "\tMeeting Offname : FORMULA 1 GULF AIR BAHRAIN GRAND PRIX 2023\n",
      "\tMeeting Name : Bahrain Grand Prix\n",
      "\tMeeting Circuit Shortname : Sakhir\n",
      "\t> Suggested search queries : [['gulf', 'air', 'bahrain', '2023'], ['bahrain'], ['sakhir']]\n",
      "\n",
      "\n",
      "16:08:03 - Endpoint not found: https://livetiming.formula1.com/static/2022/Index.json\n",
      "Traceback (most recent call last):\n",
      "  File \"c:\\Users\\EU10698\\GO\\GO\\Projects\\LiveF1\\livef1\\adapters\\livetimingf1_adapter.py\", line 65, in get\n",
      "    response.raise_for_status()\n",
      "  File \"c:\\Users\\EU10698\\venvs\\goktugPy\\Lib\\site-packages\\requests\\models.py\", line 1024, in raise_for_status\n",
      "    raise HTTPError(http_error_msg, response=self)\n",
      "requests.exceptions.HTTPError: 403 Client Error: Forbidden for url: https://livetiming.formula1.com/static/2022/Index.json\n",
      "16:08:03 - InvalidEndpointError - Endpoint not found: 2022/Index.json\n",
      "16:08:05 - The identifier couldn't be found.\n",
      "16:08:05 - LiveF1Error - \n",
      "The searched query 'Spain' not found in the table. Did you mean one of these :\n",
      "\n",
      "\tMeeting Offname : FORMULA 1 ARAMCO GRAN PREMIO DE ESPAÑA 2021\n",
      "\tMeeting Name : Spanish Grand Prix\n",
      "\tMeeting Circuit Shortname : Catalunya\n",
      "\t> Suggested search queries : [['aramco', 'gran', 'premio', 'de', 'españa', '2021'], ['spanish'], ['catalunya']]\n",
      "\n",
      "\tMeeting Offname : FORMULA 1 ARAMCO UNITED STATES GRAND PRIX 2021\n",
      "\tMeeting Name : United States Grand Prix\n",
      "\tMeeting Circuit Shortname : Austin\n",
      "\t> Suggested search queries : [['aramco', 'united', 'states', '2021'], ['united', 'states'], ['austin']]\n",
      "\n",
      "\tMeeting Offname : FORMULA 1 GULF AIR BAHRAIN GRAND PRIX 2021\n",
      "\tMeeting Name : Bahrain Grand Prix\n",
      "\tMeeting Circuit Shortname : Sakhir\n",
      "\t> Suggested search queries : [['gulf', 'air', 'bahrain', '2021'], ['bahrain'], ['sakhir']]\n",
      "\n",
      "\n",
      "16:08:07 - The identifier couldn't be found.\n",
      "16:08:07 - LiveF1Error - \n",
      "The searched query 'Spain' not found in the table. Did you mean one of these :\n",
      "\n",
      "\tMeeting Offname : FORMULA 1 ARAMCO GRAN PREMIO DE ESPAÑA 2020\n",
      "\tMeeting Name : Spanish Grand Prix\n",
      "\tMeeting Circuit Shortname : Catalunya\n",
      "\t> Suggested search queries : [['aramco', 'gran', 'premio', 'de', 'españa', '2020'], ['spanish'], ['catalunya']]\n",
      "\n",
      "\tMeeting Offname : FORMULA 1 GULF AIR BAHRAIN GRAND PRIX 2020\n",
      "\tMeeting Name : Bahrain Grand Prix\n",
      "\tMeeting Circuit Shortname : Sakhir\n",
      "\t> Suggested search queries : [['gulf', 'air', 'bahrain', '2020'], ['bahrain'], ['sakhir']]\n",
      "\n",
      "\tMeeting Offname : FORMULA 1 ROLEX SAKHIR GRAND PRIX 2020\n",
      "\tMeeting Name : Sakhir Grand Prix\n",
      "\tMeeting Circuit Shortname : Sakhir Outer Track\n",
      "\t> Suggested search queries : [['rolex', 'sakhir', '2020'], ['sakhir'], ['sakhir', 'outer', 'track']]\n",
      "\n",
      "\n",
      "16:08:09 - The identifier couldn't be found.\n",
      "16:08:09 - LiveF1Error - \n",
      "The searched query 'Spain' not found in the table. Did you mean one of these :\n",
      "\n",
      "\tMeeting Offname : FORMULA 1 EMIRATES GRAN PREMIO DE ESPAÑA 2019\n",
      "\tMeeting Name : Spanish Grand Prix\n",
      "\tMeeting Circuit Shortname : Catalunya\n",
      "\t> Suggested search queries : [['emirates', 'gran', 'premio', 'de', 'españa', '2019'], ['spanish'], ['catalunya']]\n",
      "\n",
      "\tMeeting Offname : FORMULA 1 UNITED STATES GRAND PRIX 2019\n",
      "\tMeeting Name : United States Grand Prix\n",
      "\tMeeting Circuit Shortname : Austin\n",
      "\t> Suggested search queries : [['united', 'states', '2019'], ['united', 'states'], ['austin']]\n",
      "\n",
      "\tMeeting Offname : FORMULA 1 GULF AIR BAHRAIN GRAND PRIX 2019\n",
      "\tMeeting Name : Bahrain Grand Prix\n",
      "\tMeeting Circuit Shortname : Sakhir\n",
      "\t> Suggested search queries : [['gulf', 'air', 'bahrain', '2019'], ['bahrain'], ['sakhir']]\n",
      "\n",
      "\n",
      "16:08:11 - The identifier couldn't be found.\n",
      "16:08:11 - LiveF1Error - \n",
      "The searched query 'Spain' not found in the table. Did you mean one of these :\n",
      "\n",
      "\tMeeting Offname : FORMULA 1 GRAN PREMIO DE ESPAÑA EMIRATES 2018\n",
      "\tMeeting Name : Spanish Grand Prix\n",
      "\tMeeting Circuit Shortname : Catalunya\n",
      "\t> Suggested search queries : [['gran', 'premio', 'de', 'españa', 'emirates', '2018'], ['spanish'], ['catalunya']]\n",
      "\n",
      "\tMeeting Offname : FORMULA 1 PIRELLI 2018 UNITED STATES GRAND PRIX\n",
      "\tMeeting Name : United States Grand Prix\n",
      "\tMeeting Circuit Shortname : Austin\n",
      "\t> Suggested search queries : [['pirelli', '2018', 'united', 'states'], ['united', 'states'], ['austin']]\n",
      "\n",
      "\tMeeting Offname : FORMULA 1 2018 GULF AIR BAHRAIN GRAND PRIX\n",
      "\tMeeting Name : Bahrain Grand Prix\n",
      "\tMeeting Circuit Shortname : Sakhir\n",
      "\t> Suggested search queries : [['2018', 'gulf', 'air', 'bahrain'], ['bahrain'], ['sakhir']]\n",
      "\n",
      "\n"
     ]
    },
    {
     "name": "stdout",
     "output_type": "stream",
     "text": [
      "Meeting Circuit Shortname                 Sakhir\n",
      "Session Name                               Day 1\n",
      "Start Date                   2025-02-26 07:00:00\n",
      "End Date                     2025-02-26 16:00:00\n",
      "Name: FORMULA 1 ARAMCO PRE-SEASON TESTING 2025, dtype: object\n"
     ]
    },
    {
     "name": "stderr",
     "output_type": "stream",
     "text": [
      "16:08:13 - Selected meeting/session is:\n",
      "\tMeeting Offname : FORMULA 1 GULF AIR BAHRAIN GRAND PRIX 2025\n",
      "\tMeeting Name : Bahrain Grand Prix\n",
      "\tMeeting Circuit Shortname : Sakhir\n",
      "16:08:13 - Got the meeting.\n"
     ]
    },
    {
     "name": "stdout",
     "output_type": "stream",
     "text": [
      "Meeting Circuit Shortname         Emilia-Romagna\n",
      "Session Name                          Practice 1\n",
      "Start Date                   2025-05-16 11:30:00\n",
      "End Date                     2025-05-16 12:30:00\n",
      "Name: FORMULA 1 AWS GRAN PREMIO DEL MADE IN ITALY E DELL'EMILIA-ROMAGNA 2025, dtype: object\n"
     ]
    },
    {
     "name": "stderr",
     "output_type": "stream",
     "text": [
      "16:08:15 - Selected meeting/session is:\n",
      "\tMeeting Offname : FORMULA 1 AWS GRAN PREMIO DEL MADE IN ITALY E DELL'EMILIA-ROMAGNA 2025\n",
      "\tMeeting Name : Emilia Romagna Grand Prix\n",
      "\tMeeting Circuit Shortname : Imola\n",
      "16:08:15 - Got the meeting.\n"
     ]
    },
    {
     "name": "stdout",
     "output_type": "stream",
     "text": [
      "Meeting Circuit Shortname                  Miami\n",
      "Session Name                          Practice 1\n",
      "Start Date                   2025-05-02 16:30:00\n",
      "End Date                     2025-05-02 17:30:00\n",
      "Name: FORMULA 1 CRYPTO.COM MIAMI GRAND PRIX 2025, dtype: object\n"
     ]
    },
    {
     "name": "stderr",
     "output_type": "stream",
     "text": [
      "16:08:16 - Selected meeting/session is:\n",
      "\tMeeting Offname : FORMULA 1 CRYPTO.COM MIAMI GRAND PRIX 2025\n",
      "\tMeeting Name : Miami Grand Prix\n",
      "\tMeeting Circuit Shortname : Miami\n",
      "16:08:16 - Got the meeting.\n"
     ]
    },
    {
     "name": "stdout",
     "output_type": "stream",
     "text": [
      "Meeting Circuit Shortname              Abu Dhabi\n",
      "Session Name                          Practice 1\n",
      "Start Date                   2025-12-05 09:30:00\n",
      "End Date                     2025-12-05 10:30:00\n",
      "Name: FORMULA 1 ETIHAD AIRWAYS ABU DHABI GRAND PRIX 2025 , dtype: object\n"
     ]
    },
    {
     "name": "stderr",
     "output_type": "stream",
     "text": [
      "16:08:18 - The identifier couldn't be found.\n",
      "16:08:18 - LiveF1Error - \n",
      "The searched query 'Abu Dhabi' not found in the table. Did you mean one of these :\n",
      "\n",
      "\tMeeting Offname : FORMULA 1 GULF AIR BAHRAIN GRAND PRIX 2025\n",
      "\tMeeting Name : Bahrain Grand Prix\n",
      "\tMeeting Circuit Shortname : Sakhir\n",
      "\t> Suggested search queries : [['gulf', 'air', 'bahrain', '2025'], ['bahrain'], ['sakhir']]\n",
      "\n",
      "\tMeeting Offname : FORMULA 1 STC SAUDI ARABIAN GRAND PRIX 2025\n",
      "\tMeeting Name : Saudi Arabian Grand Prix\n",
      "\tMeeting Circuit Shortname : Jeddah\n",
      "\t> Suggested search queries : [['stc', 'saudi', 'arabian', '2025'], ['saudi', 'arabian'], ['jeddah']]\n",
      "\n",
      "\tMeeting Offname : FORMULA 1 HEINEKEN CHINESE GRAND PRIX 2025\n",
      "\tMeeting Name : Chinese Grand Prix\n",
      "\tMeeting Circuit Shortname : Shanghai\n",
      "\t> Suggested search queries : [['heineken', 'chinese', '2025'], ['chinese'], ['shanghai']]\n",
      "\n",
      "\n",
      "16:08:19 - Selected meeting/session is:\n",
      "\tMeeting Offname : FORMULA 1 ETIHAD AIRWAYS ABU DHABI GRAND PRIX 2024\n",
      "\tMeeting Name : Abu Dhabi Grand Prix\n",
      "\tMeeting Circuit Shortname : Yas Marina Circuit\n",
      "16:08:19 - Got the meeting.\n"
     ]
    },
    {
     "name": "stdout",
     "output_type": "stream",
     "text": [
      "Meeting Circuit Shortname                 Mexico\n",
      "Session Name                          Practice 1\n",
      "Start Date                   2025-10-24 18:30:00\n",
      "End Date                     2025-10-24 19:30:00\n",
      "Name: FORMULA 1 GRAN PREMIO DE LA CIUDAD DE MÉXICO 2025, dtype: object\n"
     ]
    },
    {
     "name": "stderr",
     "output_type": "stream",
     "text": [
      "16:08:21 - The identifier couldn't be found.\n",
      "16:08:21 - LiveF1Error - \n",
      "The searched query 'Mexico' not found in the table. Did you mean one of these :\n",
      "\n",
      "\tMeeting Offname : FORMULA 1 TAG HEUER GRAND PRIX DE MONACO 2025\n",
      "\tMeeting Name : Monaco Grand Prix\n",
      "\tMeeting Circuit Shortname : Monte Carlo\n",
      "\t> Suggested search queries : [['tag', 'heuer', 'de', 'monaco', '2025'], ['monaco'], ['monte', 'carlo']]\n",
      "\n",
      "\tMeeting Offname : FORMULA 1 LOUIS VUITTON AUSTRALIAN GRAND PRIX 2025\n",
      "\tMeeting Name : Australian Grand Prix\n",
      "\tMeeting Circuit Shortname : Melbourne\n",
      "\t> Suggested search queries : [['louis', 'vuitton', 'australian', '2025'], ['australian'], ['melbourne']]\n",
      "\n",
      "\tMeeting Offname : FORMULA 1 CRYPTO.COM MIAMI GRAND PRIX 2025\n",
      "\tMeeting Name : Miami Grand Prix\n",
      "\tMeeting Circuit Shortname : Miami\n",
      "\t> Suggested search queries : [['crypto', 'com', 'miami', '2025'], ['miami'], ['miami']]\n",
      "\n",
      "\n",
      "16:08:23 - Selected meeting/session is:\n",
      "\tMeeting Offname : FORMULA 1 GRAN PREMIO DE LA CIUDAD DE MÉXICO 2024\n",
      "\tMeeting Name : Mexico City Grand Prix\n",
      "\tMeeting Circuit Shortname : Mexico City\n",
      "16:08:23 - Got the meeting.\n"
     ]
    },
    {
     "name": "stdout",
     "output_type": "stream",
     "text": [
      "Meeting Circuit Shortname                Bahrain\n",
      "Session Name                          Practice 1\n",
      "Start Date                   2025-04-11 11:30:00\n",
      "End Date                     2025-04-11 12:30:00\n",
      "Name: FORMULA 1 GULF AIR BAHRAIN GRAND PRIX 2025, dtype: object\n"
     ]
    },
    {
     "name": "stderr",
     "output_type": "stream",
     "text": [
      "16:08:26 - Selected meeting/session is:\n",
      "\tMeeting Offname : FORMULA 1 GULF AIR BAHRAIN GRAND PRIX 2025\n",
      "\tMeeting Name : Bahrain Grand Prix\n",
      "\tMeeting Circuit Shortname : Sakhir\n",
      "16:08:26 - Got the meeting.\n"
     ]
    },
    {
     "name": "stdout",
     "output_type": "stream",
     "text": [
      "Meeting Circuit Shortname                  China\n",
      "Session Name                          Practice 1\n",
      "Start Date                   2025-03-21 03:30:00\n",
      "End Date                     2025-03-21 04:30:00\n",
      "Name: FORMULA 1 HEINEKEN CHINESE GRAND PRIX 2025, dtype: object\n"
     ]
    },
    {
     "name": "stderr",
     "output_type": "stream",
     "text": [
      "16:08:27 - The identifier couldn't be found.\n",
      "16:08:27 - LiveF1Error - \n",
      "The searched query 'China' not found in the table. Did you mean one of these :\n",
      "\n",
      "\tMeeting Offname : FORMULA 1 HEINEKEN CHINESE GRAND PRIX 2025\n",
      "\tMeeting Name : Chinese Grand Prix\n",
      "\tMeeting Circuit Shortname : Shanghai\n",
      "\t> Suggested search queries : [['heineken', 'chinese', '2025'], ['chinese'], ['shanghai']]\n",
      "\n",
      "\tMeeting Offname : FORMULA 1 PIRELLI GRAND PRIX DU CANADA 2025\n",
      "\tMeeting Name : Canadian Grand Prix\n",
      "\tMeeting Circuit Shortname : Montreal\n",
      "\t> Suggested search queries : [['pirelli', 'du', 'canada', '2025'], ['canadian'], ['montreal']]\n",
      "\n",
      "\tMeeting Offname : FORMULA 1 GULF AIR BAHRAIN GRAND PRIX 2025\n",
      "\tMeeting Name : Bahrain Grand Prix\n",
      "\tMeeting Circuit Shortname : Sakhir\n",
      "\t> Suggested search queries : [['gulf', 'air', 'bahrain', '2025'], ['bahrain'], ['sakhir']]\n",
      "\n",
      "\n",
      "16:08:29 - The identifier couldn't be found.\n",
      "16:08:29 - LiveF1Error - \n",
      "The searched query 'China' not found in the table. Did you mean one of these :\n",
      "\n",
      "\tMeeting Offname : FORMULA 1 HUNGARIAN GRAND PRIX 2024\n",
      "\tMeeting Name : Hungarian Grand Prix\n",
      "\tMeeting Circuit Shortname : Hungaroring\n",
      "\t> Suggested search queries : [['hungarian', '2024'], ['hungarian'], ['hungaroring']]\n",
      "\n",
      "\tMeeting Offname : FORMULA 1 SINGAPORE AIRLINES SINGAPORE GRAND PRIX 2024\n",
      "\tMeeting Name : Singapore Grand Prix\n",
      "\tMeeting Circuit Shortname : Singapore\n",
      "\t> Suggested search queries : [['singapore', 'airlines', 'singapore', '2024'], ['singapore'], ['singapore']]\n",
      "\n",
      "\tMeeting Offname : FORMULA 1 HEINEKEN SILVER LAS VEGAS GRAND PRIX 2024\n",
      "\tMeeting Name : Las Vegas Grand Prix\n",
      "\tMeeting Circuit Shortname : Las Vegas\n",
      "\t> Suggested search queries : [['heineken', 'silver', 'las', 'vegas', '2024'], ['las', 'vegas'], ['las', 'vegas']]\n",
      "\n",
      "\n",
      "16:08:31 - The identifier couldn't be found.\n",
      "16:08:31 - LiveF1Error - \n",
      "The searched query 'China' not found in the table. Did you mean one of these :\n",
      "\n",
      "\tMeeting Offname : FORMULA 1 PIRELLI GRAND PRIX DU CANADA 2023\n",
      "\tMeeting Name : Canadian Grand Prix\n",
      "\tMeeting Circuit Shortname : Montreal\n",
      "\t> Suggested search queries : [['pirelli', 'du', 'canada', '2023'], ['canadian'], ['montreal']]\n",
      "\n",
      "\tMeeting Offname : FORMULA 1 QATAR AIRWAYS HUNGARIAN GRAND PRIX 2023\n",
      "\tMeeting Name : Hungarian Grand Prix\n",
      "\tMeeting Circuit Shortname : Hungaroring\n",
      "\t> Suggested search queries : [['qatar', 'airways', 'hungarian', '2023'], ['hungarian'], ['hungaroring']]\n",
      "\n",
      "\tMeeting Offname : FORMULA 1 SINGAPORE AIRLINES SINGAPORE GRAND PRIX 2023 \n",
      "\tMeeting Name : Singapore Grand Prix\n",
      "\tMeeting Circuit Shortname : Singapore\n",
      "\t> Suggested search queries : [['singapore', 'airlines', 'singapore', '2023', ''], ['singapore'], ['singapore']]\n",
      "\n",
      "\n",
      "16:08:32 - Endpoint not found: https://livetiming.formula1.com/static/2022/Index.json\n",
      "Traceback (most recent call last):\n",
      "  File \"c:\\Users\\EU10698\\GO\\GO\\Projects\\LiveF1\\livef1\\adapters\\livetimingf1_adapter.py\", line 65, in get\n",
      "    response.raise_for_status()\n",
      "  File \"c:\\Users\\EU10698\\venvs\\goktugPy\\Lib\\site-packages\\requests\\models.py\", line 1024, in raise_for_status\n",
      "    raise HTTPError(http_error_msg, response=self)\n",
      "requests.exceptions.HTTPError: 403 Client Error: Forbidden for url: https://livetiming.formula1.com/static/2022/Index.json\n",
      "16:08:32 - InvalidEndpointError - Endpoint not found: 2022/Index.json\n",
      "16:08:34 - The identifier couldn't be found.\n",
      "16:08:34 - LiveF1Error - \n",
      "The searched query 'China' not found in the table. Did you mean one of these :\n",
      "\n",
      "\tMeeting Offname : FORMULA 1 ROLEX MAGYAR NAGYDÍJ 2021\n",
      "\tMeeting Name : Hungarian Grand Prix\n",
      "\tMeeting Circuit Shortname : Hungaroring\n",
      "\t> Suggested search queries : [['rolex', 'magyar', 'nagydíj', '2021'], ['hungarian'], ['hungaroring']]\n",
      "\n",
      "\tMeeting Offname : FORMULA 1 HEINEKEN GRAN PREMIO D’ITALIA 2021\n",
      "\tMeeting Name : Italian Grand Prix\n",
      "\tMeeting Circuit Shortname : Monza\n",
      "\t> Suggested search queries : [['heineken', 'gran', 'premio', 'd’italia', '2021'], ['italian'], ['monza']]\n",
      "\n",
      "\tMeeting Offname : FORMULA 1 HEINEKEN GRANDE PRÉMIO DE PORTUGAL 2021\n",
      "\tMeeting Name : Portuguese Grand Prix\n",
      "\tMeeting Circuit Shortname : Algarve International Circuit\n",
      "\t> Suggested search queries : [['heineken', 'grande', 'prémio', 'de', 'portugal', '2021'], ['portuguese'], ['algarve', 'international', 'circuit']]\n",
      "\n",
      "\n",
      "16:08:36 - The identifier couldn't be found.\n",
      "16:08:36 - LiveF1Error - \n",
      "The searched query 'China' not found in the table. Did you mean one of these :\n",
      "\n",
      "\tMeeting Offname : FORMULA 1 ARAMCO MAGYAR NAGYDÍJ 2020\n",
      "\tMeeting Name : Hungarian Grand Prix\n",
      "\tMeeting Circuit Shortname : Hungaroring\n",
      "\t> Suggested search queries : [['aramco', 'magyar', 'nagydíj', '2020'], ['hungarian'], ['hungaroring']]\n",
      "\n",
      "\tMeeting Offname : FORMULA 1 HEINEKEN GRANDE PRÉMIO DE PORTUGAL 2020\n",
      "\tMeeting Name : Portuguese Grand Prix\n",
      "\tMeeting Circuit Shortname : Algarve International Circuit\n",
      "\t> Suggested search queries : [['heineken', 'grande', 'prémio', 'de', 'portugal', '2020'], ['portuguese'], ['algarve', 'international', 'circuit']]\n",
      "\n",
      "\tMeeting Offname : EMIRATES FORMULA 1 70TH ANNIVERSARY GRAND PRIX 2020\n",
      "\tMeeting Name : 70th Anniversary Grand Prix\n",
      "\tMeeting Circuit Shortname : Silverstone\n",
      "\t> Suggested search queries : [['emirates', '70th', 'anniversary', '2020'], ['70th', 'anniversary'], ['silverstone']]\n",
      "\n",
      "\n",
      "16:08:38 - The identifier couldn't be found.\n",
      "16:08:38 - LiveF1Error - \n",
      "The searched query 'China' not found in the table. Did you mean one of these :\n",
      "\n",
      "\tMeeting Offname : FORMULA 1 HEINEKEN CHINESE GRAND PRIX 2019\n",
      "\tMeeting Name : Chinese Grand Prix\n",
      "\tMeeting Circuit Shortname : Shanghai\n",
      "\t> Suggested search queries : [['heineken', 'chinese', '2019'], ['chinese'], ['shanghai']]\n",
      "\n",
      "\tMeeting Offname : FORMULA 1 PIRELLI GRAND PRIX DU CANADA 2019\n",
      "\tMeeting Name : Canadian Grand Prix\n",
      "\tMeeting Circuit Shortname : Montreal\n",
      "\t> Suggested search queries : [['pirelli', 'du', 'canada', '2019'], ['canadian'], ['montreal']]\n",
      "\n",
      "\tMeeting Offname : FORMULA 1 MAGYAR NAGYDÍJ 2019\n",
      "\tMeeting Name : Hungarian Grand Prix\n",
      "\tMeeting Circuit Shortname : Hungaroring\n",
      "\t> Suggested search queries : [['magyar', 'nagydíj', '2019'], ['hungarian'], ['hungaroring']]\n",
      "\n",
      "\n",
      "16:08:40 - The identifier couldn't be found.\n",
      "16:08:40 - LiveF1Error - \n",
      "The searched query 'China' not found in the table. Did you mean one of these :\n",
      "\n",
      "\tMeeting Offname : FORMULA 1 2018 HEINEKEN CHINESE GRAND PRIX\n",
      "\tMeeting Name : Chinese Grand Prix\n",
      "\tMeeting Circuit Shortname : Shanghai\n",
      "\t> Suggested search queries : [['2018', 'heineken', 'chinese'], ['chinese'], ['shanghai']]\n",
      "\n",
      "\tMeeting Offname : FORMULA 1 GRAND PRIX HEINEKEN DU CANADA 2018\n",
      "\tMeeting Name : Canadian Grand Prix\n",
      "\tMeeting Circuit Shortname : Montreal\n",
      "\t> Suggested search queries : [['heineken', 'du', 'canada', '2018'], ['canadian'], ['montreal']]\n",
      "\n",
      "\tMeeting Offname : FORMULA 1 ROLEX MAGYAR NAGYDÍJ 2018\n",
      "\tMeeting Name : Hungarian Grand Prix\n",
      "\tMeeting Circuit Shortname : Hungaroring\n",
      "\t> Suggested search queries : [['rolex', 'magyar', 'nagydíj', '2018'], ['hungarian'], ['hungaroring']]\n",
      "\n",
      "\n"
     ]
    },
    {
     "name": "stdout",
     "output_type": "stream",
     "text": [
      "Meeting Circuit Shortname            Netherlands\n",
      "Session Name                          Practice 1\n",
      "Start Date                   2025-08-29 10:30:00\n",
      "End Date                     2025-08-29 11:30:00\n",
      "Name: FORMULA 1 HEINEKEN DUTCH GRAND PRIX 2025, dtype: object\n"
     ]
    },
    {
     "name": "stderr",
     "output_type": "stream",
     "text": [
      "16:08:41 - The identifier couldn't be found.\n",
      "16:08:41 - LiveF1Error - \n",
      "The searched query 'Netherlands' not found in the table. Did you mean one of these :\n",
      "\n",
      "\tMeeting Offname : FORMULA 1 PIRELLI GRAND PRIX DU CANADA 2025\n",
      "\tMeeting Name : Canadian Grand Prix\n",
      "\tMeeting Circuit Shortname : Montreal\n",
      "\t> Suggested search queries : [['pirelli', 'du', 'canada', '2025'], ['canadian'], ['montreal']]\n",
      "\n",
      "\tMeeting Offname : FORMULA 1 GULF AIR BAHRAIN GRAND PRIX 2025\n",
      "\tMeeting Name : Bahrain Grand Prix\n",
      "\tMeeting Circuit Shortname : Sakhir\n",
      "\t> Suggested search queries : [['gulf', 'air', 'bahrain', '2025'], ['bahrain'], ['sakhir']]\n",
      "\n",
      "\tMeeting Offname : FORMULA 1 MOËT & CHANDON BELGIAN GRAND PRIX 2025\n",
      "\tMeeting Name : Belgian Grand Prix\n",
      "\tMeeting Circuit Shortname : Spa-Francorchamps\n",
      "\t> Suggested search queries : [['moët', 'chandon', 'belgian', '2025'], ['belgian'], ['spa', 'francorchamps']]\n",
      "\n",
      "\n",
      "16:08:43 - The identifier couldn't be found.\n",
      "16:08:43 - LiveF1Error - \n",
      "The searched query 'Netherlands' not found in the table. Did you mean one of these :\n",
      "\n",
      "\tMeeting Offname : FORMULA 1 LENOVO GRANDE PRÊMIO DE SÃO PAULO 2024\n",
      "\tMeeting Name : São Paulo Grand Prix\n",
      "\tMeeting Circuit Shortname : Interlagos\n",
      "\t> Suggested search queries : [['lenovo', 'grande', 'prêmio', 'de', 'são', 'paulo', '2024'], ['são', 'paulo'], ['interlagos']]\n",
      "\n",
      "\tMeeting Offname : FORMULA 1 ROLEX BELGIAN GRAND PRIX 2024\n",
      "\tMeeting Name : Belgian Grand Prix\n",
      "\tMeeting Circuit Shortname : Spa-Francorchamps\n",
      "\t> Suggested search queries : [['rolex', 'belgian', '2024'], ['belgian'], ['spa', 'francorchamps']]\n",
      "\n",
      "\tMeeting Offname : FORMULA 1 PIRELLI GRAN PREMIO D’ITALIA 2024\n",
      "\tMeeting Name : Italian Grand Prix\n",
      "\tMeeting Circuit Shortname : Monza\n",
      "\t> Suggested search queries : [['pirelli', 'gran', 'premio', 'd’italia', '2024'], ['italian'], ['monza']]\n",
      "\n",
      "\n",
      "16:08:46 - The identifier couldn't be found.\n",
      "16:08:46 - LiveF1Error - \n",
      "The searched query 'Netherlands' not found in the table. Did you mean one of these :\n",
      "\n",
      "\tMeeting Offname : FORMULA 1 ROLEX GRANDE PRÊMIO DE SÃO PAULO 2023\n",
      "\tMeeting Name : São Paulo Grand Prix\n",
      "\tMeeting Circuit Shortname : Interlagos\n",
      "\t> Suggested search queries : [['rolex', 'grande', 'prêmio', 'de', 'são', 'paulo', '2023'], ['são', 'paulo'], ['interlagos']]\n",
      "\n",
      "\tMeeting Offname : FORMULA 1 PIRELLI GRAND PRIX DU CANADA 2023\n",
      "\tMeeting Name : Canadian Grand Prix\n",
      "\tMeeting Circuit Shortname : Montreal\n",
      "\t> Suggested search queries : [['pirelli', 'du', 'canada', '2023'], ['canadian'], ['montreal']]\n",
      "\n",
      "\tMeeting Offname : FORMULA 1 GULF AIR BAHRAIN GRAND PRIX 2023\n",
      "\tMeeting Name : Bahrain Grand Prix\n",
      "\tMeeting Circuit Shortname : Sakhir\n",
      "\t> Suggested search queries : [['gulf', 'air', 'bahrain', '2023'], ['bahrain'], ['sakhir']]\n",
      "\n",
      "\n",
      "16:08:46 - Endpoint not found: https://livetiming.formula1.com/static/2022/Index.json\n",
      "Traceback (most recent call last):\n",
      "  File \"c:\\Users\\EU10698\\GO\\GO\\Projects\\LiveF1\\livef1\\adapters\\livetimingf1_adapter.py\", line 65, in get\n",
      "    response.raise_for_status()\n",
      "  File \"c:\\Users\\EU10698\\venvs\\goktugPy\\Lib\\site-packages\\requests\\models.py\", line 1024, in raise_for_status\n",
      "    raise HTTPError(http_error_msg, response=self)\n",
      "requests.exceptions.HTTPError: 403 Client Error: Forbidden for url: https://livetiming.formula1.com/static/2022/Index.json\n",
      "16:08:46 - InvalidEndpointError - Endpoint not found: 2022/Index.json\n",
      "16:08:48 - The identifier couldn't be found.\n",
      "16:08:48 - LiveF1Error - \n",
      "The searched query 'Netherlands' not found in the table. Did you mean one of these :\n",
      "\n",
      "\tMeeting Offname : FORMULA 1 HEINEKEN GRANDE PRÊMIO DE SÃO PAULO 2021\n",
      "\tMeeting Name : São Paulo Grand Prix\n",
      "\tMeeting Circuit Shortname : Interlagos\n",
      "\t> Suggested search queries : [['heineken', 'grande', 'prêmio', 'de', 'são', 'paulo', '2021'], ['são', 'paulo'], ['interlagos']]\n",
      "\n",
      "\tMeeting Offname : FORMULA 1 GULF AIR BAHRAIN GRAND PRIX 2021\n",
      "\tMeeting Name : Bahrain Grand Prix\n",
      "\tMeeting Circuit Shortname : Sakhir\n",
      "\t> Suggested search queries : [['gulf', 'air', 'bahrain', '2021'], ['bahrain'], ['sakhir']]\n",
      "\n",
      "\tMeeting Offname : FORMULA 1 BWT GROSSER PREIS DER STEIERMARK 2021\n",
      "\tMeeting Name : Styrian Grand Prix\n",
      "\tMeeting Circuit Shortname : Spielberg\n",
      "\t> Suggested search queries : [['bwt', 'grosser', 'preis', 'der', 'steiermark', '2021'], ['styrian'], ['spielberg']]\n",
      "\n",
      "\n",
      "16:08:50 - The identifier couldn't be found.\n",
      "16:08:50 - LiveF1Error - \n",
      "The searched query 'Netherlands' not found in the table. Did you mean one of these :\n",
      "\n",
      "\tMeeting Offname : FORMULA 1 PIRELLI GROSSER PREIS DER STEIERMARK 2020\n",
      "\tMeeting Name : Styrian Grand Prix\n",
      "\tMeeting Circuit Shortname : Spielberg\n",
      "\t> Suggested search queries : [['pirelli', 'grosser', 'preis', 'der', 'steiermark', '2020'], ['styrian'], ['spielberg']]\n",
      "\n",
      "\tMeeting Offname : FORMULA 1 ROLEX BELGIAN GRAND PRIX 2020\n",
      "\tMeeting Name : Belgian Grand Prix\n",
      "\tMeeting Circuit Shortname : Spa-Francorchamps\n",
      "\t> Suggested search queries : [['rolex', 'belgian', '2020'], ['belgian'], ['spa', 'francorchamps']]\n",
      "\n",
      "\tMeeting Offname : FORMULA 1 GRAN PREMIO HEINEKEN D’ITALIA 2020\n",
      "\tMeeting Name : Italian Grand Prix\n",
      "\tMeeting Circuit Shortname : Monza\n",
      "\t> Suggested search queries : [['gran', 'premio', 'heineken', 'd’italia', '2020'], ['italian'], ['monza']]\n",
      "\n",
      "\n",
      "16:08:53 - The identifier couldn't be found.\n",
      "16:08:53 - LiveF1Error - \n",
      "The searched query 'Netherlands' not found in the table. Did you mean one of these :\n",
      "\n",
      "\tMeeting Offname : FORMULA 1 HEINEKEN GRANDE PRÊMIO DO BRASIL 2019\n",
      "\tMeeting Name : Brazilian Grand Prix\n",
      "\tMeeting Circuit Shortname : Interlagos\n",
      "\t> Suggested search queries : [['heineken', 'grande', 'prêmio', 'do', 'brasil', '2019'], ['brazilian'], ['interlagos']]\n",
      "\n",
      "\tMeeting Offname : FORMULA 1 MERCEDES-BENZ GROSSER PREIS VON DEUTSCHLAND 2019\n",
      "\tMeeting Name : German Grand Prix\n",
      "\tMeeting Circuit Shortname : Hockenheim\n",
      "\t> Suggested search queries : [['mercedes', 'benz', 'grosser', 'preis', 'von', 'deutschland', '2019'], ['german'], ['hockenheim']]\n",
      "\n",
      "\tMeeting Offname : FORMULA 1 PIRELLI GRAND PRIX DU CANADA 2019\n",
      "\tMeeting Name : Canadian Grand Prix\n",
      "\tMeeting Circuit Shortname : Montreal\n",
      "\t> Suggested search queries : [['pirelli', 'du', 'canada', '2019'], ['canadian'], ['montreal']]\n",
      "\n",
      "\n",
      "16:08:55 - The identifier couldn't be found.\n",
      "16:08:55 - LiveF1Error - \n",
      "The searched query 'Netherlands' not found in the table. Did you mean one of these :\n",
      "\n",
      "\tMeeting Offname : FORMULA 1 GRANDE PRÊMIO HEINEKEN DO BRASIL 2018\n",
      "\tMeeting Name : Brazilian Grand Prix\n",
      "\tMeeting Circuit Shortname : Interlagos\n",
      "\t> Suggested search queries : [['grande', 'prêmio', 'heineken', 'do', 'brasil', '2018'], ['brazilian'], ['interlagos']]\n",
      "\n",
      "\tMeeting Offname : FORMULA 1 EMIRATES GROSSER PREIS VON DEUTSCHLAND 2018\n",
      "\tMeeting Name : German Grand Prix\n",
      "\tMeeting Circuit Shortname : Hockenheim\n",
      "\t> Suggested search queries : [['emirates', 'grosser', 'preis', 'von', 'deutschland', '2018'], ['german'], ['hockenheim']]\n",
      "\n",
      "\tMeeting Offname : FORMULA 1 GRAND PRIX HEINEKEN DU CANADA 2018\n",
      "\tMeeting Name : Canadian Grand Prix\n",
      "\tMeeting Circuit Shortname : Montreal\n",
      "\t> Suggested search queries : [['heineken', 'du', 'canada', '2018'], ['canadian'], ['montreal']]\n",
      "\n",
      "\n"
     ]
    },
    {
     "name": "stdout",
     "output_type": "stream",
     "text": [
      "Meeting Circuit Shortname              Las Vegas\n",
      "Session Name                          Practice 1\n",
      "Start Date                   2025-11-21 00:30:00\n",
      "End Date                     2025-11-21 01:30:00\n",
      "Name: FORMULA 1 HEINEKEN LAS VEGAS GRAND PRIX 2025, dtype: object\n"
     ]
    },
    {
     "name": "stderr",
     "output_type": "stream",
     "text": [
      "16:08:57 - The identifier couldn't be found.\n",
      "16:08:57 - LiveF1Error - \n",
      "The searched query 'Las Vegas' not found in the table. Did you mean one of these :\n",
      "\n",
      "\tMeeting Offname : FORMULA 1 LENOVO JAPANESE GRAND PRIX 2025 \n",
      "\tMeeting Name : Japanese Grand Prix\n",
      "\tMeeting Circuit Shortname : Suzuka\n",
      "\t> Suggested search queries : [['lenovo', 'japanese', '2025', ''], ['japanese'], ['suzuka']]\n",
      "\n",
      "\tMeeting Offname : FORMULA 1 QATAR AIRWAYS BRITISH GRAND PRIX 2025\n",
      "\tMeeting Name : British Grand Prix\n",
      "\tMeeting Circuit Shortname : Silverstone\n",
      "\t> Suggested search queries : [['qatar', 'airways', 'british', '2025'], ['british'], ['silverstone']]\n",
      "\n",
      "\tMeeting Offname : FORMULA 1 MOËT & CHANDON BELGIAN GRAND PRIX 2025\n",
      "\tMeeting Name : Belgian Grand Prix\n",
      "\tMeeting Circuit Shortname : Spa-Francorchamps\n",
      "\t> Suggested search queries : [['moët', 'chandon', 'belgian', '2025'], ['belgian'], ['spa', 'francorchamps']]\n",
      "\n",
      "\n",
      "16:08:58 - Selected meeting/session is:\n",
      "\tMeeting Offname : FORMULA 1 HEINEKEN SILVER LAS VEGAS GRAND PRIX 2024\n",
      "\tMeeting Name : Las Vegas Grand Prix\n",
      "\tMeeting Circuit Shortname : Las Vegas\n",
      "16:08:58 - Got the meeting.\n"
     ]
    },
    {
     "name": "stdout",
     "output_type": "stream",
     "text": [
      "Meeting Circuit Shortname                Hungary\n",
      "Session Name                          Practice 1\n",
      "Start Date                   2025-08-01 11:30:00\n",
      "End Date                     2025-08-01 12:30:00\n",
      "Name: FORMULA 1 LENOVO HUNGARIAN GRAND PRIX 2025, dtype: object\n"
     ]
    },
    {
     "name": "stderr",
     "output_type": "stream",
     "text": [
      "16:09:00 - The identifier couldn't be found.\n",
      "16:09:00 - LiveF1Error - \n",
      "The searched query 'Hungary' not found in the table. Did you mean one of these :\n",
      "\n",
      "\tMeeting Offname : FORMULA 1 HEINEKEN CHINESE GRAND PRIX 2025\n",
      "\tMeeting Name : Chinese Grand Prix\n",
      "\tMeeting Circuit Shortname : Shanghai\n",
      "\t> Suggested search queries : [['heineken', 'chinese', '2025'], ['chinese'], ['shanghai']]\n",
      "\n",
      "\tMeeting Offname : FORMULA 1 LOUIS VUITTON AUSTRALIAN GRAND PRIX 2025\n",
      "\tMeeting Name : Australian Grand Prix\n",
      "\tMeeting Circuit Shortname : Melbourne\n",
      "\t> Suggested search queries : [['louis', 'vuitton', 'australian', '2025'], ['australian'], ['melbourne']]\n",
      "\n",
      "\tMeeting Offname : FORMULA 1 TAG HEUER GRAND PRIX DE MONACO 2025\n",
      "\tMeeting Name : Monaco Grand Prix\n",
      "\tMeeting Circuit Shortname : Monte Carlo\n",
      "\t> Suggested search queries : [['tag', 'heuer', 'de', 'monaco', '2025'], ['monaco'], ['monte', 'carlo']]\n",
      "\n",
      "\n",
      "16:09:02 - The identifier couldn't be found.\n",
      "16:09:02 - The identifier is very close to 'Hungarian Grand Prix' at column 'MEETING NAME'\n",
      "16:09:02 - Selected meeting/session is:\n",
      "\tMeeting Offname : FORMULA 1 QATAR AIRWAYS BRITISH GRAND PRIX 2024\n",
      "\tMeeting Name : British Grand Prix\n",
      "\tMeeting Circuit Shortname : Silverstone\n",
      "16:09:02 - Got the meeting.\n"
     ]
    },
    {
     "name": "stdout",
     "output_type": "stream",
     "text": [
      "Meeting Circuit Shortname                  Japan\n",
      "Session Name                          Practice 1\n",
      "Start Date                   2025-04-04 02:30:00\n",
      "End Date                     2025-04-04 03:30:00\n",
      "Name: FORMULA 1 LENOVO JAPANESE GRAND PRIX 2025 , dtype: object\n"
     ]
    },
    {
     "name": "stderr",
     "output_type": "stream",
     "text": [
      "16:09:04 - The identifier couldn't be found.\n",
      "16:09:04 - The identifier is very close to 'Japanese Grand Prix' at column 'MEETING NAME'\n",
      "16:09:04 - Selected meeting/session is:\n",
      "\tMeeting Offname : FORMULA 1 LENOVO JAPANESE GRAND PRIX 2025 \n",
      "\tMeeting Name : Japanese Grand Prix\n",
      "\tMeeting Circuit Shortname : Suzuka\n",
      "16:09:04 - Got the meeting.\n"
     ]
    },
    {
     "name": "stdout",
     "output_type": "stream",
     "text": [
      "Meeting Circuit Shortname              Australia\n",
      "Session Name                          Practice 1\n",
      "Start Date                   2025-03-14 01:30:00\n",
      "End Date                     2025-03-14 02:30:00\n",
      "Name: FORMULA 1 LOUIS VUITTON AUSTRALIAN GRAND PRIX 2025, dtype: object\n"
     ]
    },
    {
     "name": "stderr",
     "output_type": "stream",
     "text": [
      "16:09:06 - The identifier couldn't be found.\n",
      "16:09:06 - The identifier is very close to 'Australian Grand Prix' at column 'MEETING NAME'\n",
      "16:09:06 - Selected meeting/session is:\n",
      "\tMeeting Offname : FORMULA 1 LOUIS VUITTON AUSTRALIAN GRAND PRIX 2025\n",
      "\tMeeting Name : Australian Grand Prix\n",
      "\tMeeting Circuit Shortname : Melbourne\n",
      "16:09:06 - Got the meeting.\n"
     ]
    },
    {
     "name": "stdout",
     "output_type": "stream",
     "text": [
      "Meeting Circuit Shortname                Belgium\n",
      "Session Name                          Practice 1\n",
      "Start Date                   2025-07-25 10:30:00\n",
      "End Date                     2025-07-25 11:30:00\n",
      "Name: FORMULA 1 MOËT & CHANDON BELGIAN GRAND PRIX 2025, dtype: object\n"
     ]
    },
    {
     "name": "stderr",
     "output_type": "stream",
     "text": [
      "16:09:08 - The identifier couldn't be found.\n",
      "16:09:08 - LiveF1Error - \n",
      "The searched query 'Belgium' not found in the table. Did you mean one of these :\n",
      "\n",
      "\tMeeting Offname : FORMULA 1 MOËT & CHANDON BELGIAN GRAND PRIX 2025\n",
      "\tMeeting Name : Belgian Grand Prix\n",
      "\tMeeting Circuit Shortname : Spa-Francorchamps\n",
      "\t> Suggested search queries : [['moët', 'chandon', 'belgian', '2025'], ['belgian'], ['spa', 'francorchamps']]\n",
      "\n",
      "\tMeeting Offname : FORMULA 1 LOUIS VUITTON AUSTRALIAN GRAND PRIX 2025\n",
      "\tMeeting Name : Australian Grand Prix\n",
      "\tMeeting Circuit Shortname : Melbourne\n",
      "\t> Suggested search queries : [['louis', 'vuitton', 'australian', '2025'], ['australian'], ['melbourne']]\n",
      "\n",
      "\tMeeting Offname : FORMULA 1 AWS GRAN PREMIO DEL MADE IN ITALY E DELL'EMILIA-ROMAGNA 2025\n",
      "\tMeeting Name : Emilia Romagna Grand Prix\n",
      "\tMeeting Circuit Shortname : Imola\n",
      "\t> Suggested search queries : [['aws', 'gran', 'premio', 'del', 'made', 'in', 'italy', 'e', 'dell', 'emilia', 'romagna', '2025'], ['emilia', 'romagna'], ['imola']]\n",
      "\n",
      "\n",
      "16:09:09 - The identifier couldn't be found.\n",
      "16:09:09 - LiveF1Error - \n",
      "The searched query 'Belgium' not found in the table. Did you mean one of these :\n",
      "\n",
      "\tMeeting Offname : FORMULA 1 ROLEX BELGIAN GRAND PRIX 2024\n",
      "\tMeeting Name : Belgian Grand Prix\n",
      "\tMeeting Circuit Shortname : Spa-Francorchamps\n",
      "\t> Suggested search queries : [['rolex', 'belgian', '2024'], ['belgian'], ['spa', 'francorchamps']]\n",
      "\n",
      "\tMeeting Offname : FORMULA 1 QATAR AIRWAYS AZERBAIJAN GRAND PRIX 2024\n",
      "\tMeeting Name : Azerbaijan Grand Prix\n",
      "\tMeeting Circuit Shortname : Baku\n",
      "\t> Suggested search queries : [['qatar', 'airways', 'azerbaijan', '2024'], ['azerbaijan'], ['baku']]\n",
      "\n",
      "\tMeeting Offname : FORMULA 1 GRAN PREMIO DE LA CIUDAD DE MÉXICO 2024\n",
      "\tMeeting Name : Mexico City Grand Prix\n",
      "\tMeeting Circuit Shortname : Mexico City\n",
      "\t> Suggested search queries : [['gran', 'premio', 'de', 'la', 'ciudad', 'de', 'méxico', '2024'], ['mexico', 'city'], ['mexico', 'city']]\n",
      "\n",
      "\n",
      "16:09:12 - The identifier couldn't be found.\n",
      "16:09:12 - LiveF1Error - \n",
      "The searched query 'Belgium' not found in the table. Did you mean one of these :\n",
      "\n",
      "\tMeeting Offname : FORMULA 1 MSC CRUISES BELGIAN GRAND PRIX 2023\n",
      "\tMeeting Name : Belgian Grand Prix\n",
      "\tMeeting Circuit Shortname : Spa-Francorchamps\n",
      "\t> Suggested search queries : [['msc', 'cruises', 'belgian', '2023'], ['belgian'], ['spa', 'francorchamps']]\n",
      "\n",
      "\tMeeting Offname : FORMULA 1 AZERBAIJAN GRAND PRIX 2023\n",
      "\tMeeting Name : Azerbaijan Grand Prix\n",
      "\tMeeting Circuit Shortname : Baku\n",
      "\t> Suggested search queries : [['azerbaijan', '2023'], ['azerbaijan'], ['baku']]\n",
      "\n",
      "\tMeeting Offname : FORMULA 1 ROLEX AUSTRALIAN GRAND PRIX 2023\n",
      "\tMeeting Name : Australian Grand Prix\n",
      "\tMeeting Circuit Shortname : Melbourne\n",
      "\t> Suggested search queries : [['rolex', 'australian', '2023'], ['australian'], ['melbourne']]\n",
      "\n",
      "\n",
      "16:09:12 - Endpoint not found: https://livetiming.formula1.com/static/2022/Index.json\n",
      "Traceback (most recent call last):\n",
      "  File \"c:\\Users\\EU10698\\GO\\GO\\Projects\\LiveF1\\livef1\\adapters\\livetimingf1_adapter.py\", line 65, in get\n",
      "    response.raise_for_status()\n",
      "  File \"c:\\Users\\EU10698\\venvs\\goktugPy\\Lib\\site-packages\\requests\\models.py\", line 1024, in raise_for_status\n",
      "    raise HTTPError(http_error_msg, response=self)\n",
      "requests.exceptions.HTTPError: 403 Client Error: Forbidden for url: https://livetiming.formula1.com/static/2022/Index.json\n",
      "16:09:12 - InvalidEndpointError - Endpoint not found: 2022/Index.json\n",
      "16:09:14 - The identifier couldn't be found.\n",
      "16:09:14 - LiveF1Error - \n",
      "The searched query 'Belgium' not found in the table. Did you mean one of these :\n",
      "\n",
      "\tMeeting Offname : FORMULA 1 ROLEX BELGIAN GRAND PRIX 2021\n",
      "\tMeeting Name : Belgian Grand Prix\n",
      "\tMeeting Circuit Shortname : Spa-Francorchamps\n",
      "\t> Suggested search queries : [['rolex', 'belgian', '2021'], ['belgian'], ['spa', 'francorchamps']]\n",
      "\n",
      "\tMeeting Offname : FORMULA 1 AZERBAIJAN GRAND PRIX 2021\n",
      "\tMeeting Name : Azerbaijan Grand Prix\n",
      "\tMeeting Circuit Shortname : Baku\n",
      "\t> Suggested search queries : [['azerbaijan', '2021'], ['azerbaijan'], ['baku']]\n",
      "\n",
      "\tMeeting Offname : FORMULA 1 GRAN PREMIO DE LA CIUDAD DE MÉXICO 2021\n",
      "\tMeeting Name : Mexico City Grand Prix\n",
      "\tMeeting Circuit Shortname : Mexico City\n",
      "\t> Suggested search queries : [['gran', 'premio', 'de', 'la', 'ciudad', 'de', 'méxico', '2021'], ['mexico', 'city'], ['mexico', 'city']]\n",
      "\n",
      "\n",
      "16:09:17 - The identifier couldn't be found.\n",
      "16:09:17 - LiveF1Error - \n",
      "The searched query 'Belgium' not found in the table. Did you mean one of these :\n",
      "\n",
      "\tMeeting Offname : FORMULA 1 ROLEX BELGIAN GRAND PRIX 2020\n",
      "\tMeeting Name : Belgian Grand Prix\n",
      "\tMeeting Circuit Shortname : Spa-Francorchamps\n",
      "\t> Suggested search queries : [['rolex', 'belgian', '2020'], ['belgian'], ['spa', 'francorchamps']]\n",
      "\n",
      "\tMeeting Offname : FORMULA 1 ARAMCO GROSSER PREIS DER EIFEL 2020\n",
      "\tMeeting Name : Eifel Grand Prix\n",
      "\tMeeting Circuit Shortname : Nürburgring\n",
      "\t> Suggested search queries : [['aramco', 'grosser', 'preis', 'der', 'eifel', '2020'], ['eifel'], ['nürburgring']]\n",
      "\n",
      "\tMeeting Offname : FORMULA 1 EMIRATES GRAN PREMIO DELL'EMILIA ROMAGNA 2020\n",
      "\tMeeting Name : Emilia Romagna Grand Prix\n",
      "\tMeeting Circuit Shortname : Imola\n",
      "\t> Suggested search queries : [['emirates', 'gran', 'premio', 'dell', 'emilia', 'romagna', '2020'], ['emilia', 'romagna'], ['imola']]\n",
      "\n",
      "\n",
      "16:09:19 - The identifier couldn't be found.\n",
      "16:09:19 - LiveF1Error - \n",
      "The searched query 'Belgium' not found in the table. Did you mean one of these :\n",
      "\n",
      "\tMeeting Offname : FORMULA 1 JOHNNIE WALKER BELGIAN GRAND PRIX 2019\n",
      "\tMeeting Name : Belgian Grand Prix\n",
      "\tMeeting Circuit Shortname : Spa-Francorchamps\n",
      "\t> Suggested search queries : [['johnnie', 'walker', 'belgian', '2019'], ['belgian'], ['spa', 'francorchamps']]\n",
      "\n",
      "\tMeeting Offname : FORMULA 1 AZERBAIJAN GRAND PRIX 2019\n",
      "\tMeeting Name : Azerbaijan Grand Prix\n",
      "\tMeeting Circuit Shortname : Baku\n",
      "\t> Suggested search queries : [['azerbaijan', '2019'], ['azerbaijan'], ['baku']]\n",
      "\n",
      "\tMeeting Offname : FORMULA 1 ROLEX AUSTRALIAN GRAND PRIX 2019\n",
      "\tMeeting Name : Australian Grand Prix\n",
      "\tMeeting Circuit Shortname : Melbourne\n",
      "\t> Suggested search queries : [['rolex', 'australian', '2019'], ['australian'], ['melbourne']]\n",
      "\n",
      "\n",
      "16:09:23 - The identifier couldn't be found.\n",
      "16:09:23 - LiveF1Error - \n",
      "The searched query 'Belgium' not found in the table. Did you mean one of these :\n",
      "\n",
      "\tMeeting Offname : FORMULA 1 2018 JOHNNIE WALKER BELGIAN GRAND PRIX\n",
      "\tMeeting Name : Belgian Grand Prix\n",
      "\tMeeting Circuit Shortname : Spa-Francorchamps\n",
      "\t> Suggested search queries : [['2018', 'johnnie', 'walker', 'belgian'], ['belgian'], ['spa', 'francorchamps']]\n",
      "\n",
      "\tMeeting Offname : FORMULA 1 2018 AZERBAIJAN GRAND PRIX\n",
      "\tMeeting Name : Azerbaijan Grand Prix\n",
      "\tMeeting Circuit Shortname : Baku\n",
      "\t> Suggested search queries : [['2018', 'azerbaijan'], ['azerbaijan'], ['baku']]\n",
      "\n",
      "\tMeeting Offname : FORMULA 1 EMIRATES GROSSER PREIS VON DEUTSCHLAND 2018\n",
      "\tMeeting Name : German Grand Prix\n",
      "\tMeeting Circuit Shortname : Hockenheim\n",
      "\t> Suggested search queries : [['emirates', 'grosser', 'preis', 'von', 'deutschland', '2018'], ['german'], ['hockenheim']]\n",
      "\n",
      "\n"
     ]
    },
    {
     "name": "stdout",
     "output_type": "stream",
     "text": [
      "Meeting Circuit Shortname                Austria\n",
      "Session Name                          Practice 1\n",
      "Start Date                   2025-06-27 11:30:00\n",
      "End Date                     2025-06-27 12:30:00\n",
      "Name: FORMULA 1 MSC CRUISES AUSTRIAN GRAND PRIX 2025, dtype: object\n"
     ]
    },
    {
     "name": "stderr",
     "output_type": "stream",
     "text": [
      "16:09:24 - The identifier couldn't be found.\n",
      "16:09:24 - The identifier is very close to 'Austrian Grand Prix' at column 'MEETING NAME'\n",
      "16:09:24 - Selected meeting/session is:\n",
      "\tMeeting Offname : FORMULA 1 MSC CRUISES AUSTRIAN GRAND PRIX 2025\n",
      "\tMeeting Name : Austrian Grand Prix\n",
      "\tMeeting Circuit Shortname : Spielberg\n",
      "16:09:24 - Got the meeting.\n"
     ]
    },
    {
     "name": "stdout",
     "output_type": "stream",
     "text": [
      "Meeting Circuit Shortname                 Brazil\n",
      "Session Name                          Practice 1\n",
      "Start Date                   2025-11-07 14:30:00\n",
      "End Date                     2025-11-07 15:30:00\n",
      "Name: FORMULA 1 MSC CRUISES GRANDE PRÊMIO DE SÃO PAULO 2025, dtype: object\n"
     ]
    },
    {
     "name": "stderr",
     "output_type": "stream",
     "text": [
      "16:09:26 - The identifier couldn't be found.\n",
      "16:09:26 - LiveF1Error - \n",
      "The searched query 'Brazil' not found in the table. Did you mean one of these :\n",
      "\n",
      "\tMeeting Offname : FORMULA 1 GULF AIR BAHRAIN GRAND PRIX 2025\n",
      "\tMeeting Name : Bahrain Grand Prix\n",
      "\tMeeting Circuit Shortname : Sakhir\n",
      "\t> Suggested search queries : [['gulf', 'air', 'bahrain', '2025'], ['bahrain'], ['sakhir']]\n",
      "\n",
      "\tMeeting Offname : FORMULA 1 QATAR AIRWAYS BRITISH GRAND PRIX 2025\n",
      "\tMeeting Name : British Grand Prix\n",
      "\tMeeting Circuit Shortname : Silverstone\n",
      "\t> Suggested search queries : [['qatar', 'airways', 'british', '2025'], ['british'], ['silverstone']]\n",
      "\n",
      "\tMeeting Offname : FORMULA 1 CRYPTO.COM MIAMI GRAND PRIX 2025\n",
      "\tMeeting Name : Miami Grand Prix\n",
      "\tMeeting Circuit Shortname : Miami\n",
      "\t> Suggested search queries : [['crypto', 'com', 'miami', '2025'], ['miami'], ['miami']]\n",
      "\n",
      "\n",
      "16:09:28 - The identifier couldn't be found.\n",
      "16:09:28 - LiveF1Error - \n",
      "The searched query 'Brazil' not found in the table. Did you mean one of these :\n",
      "\n",
      "\tMeeting Offname : FORMULA 1 QATAR AIRWAYS QATAR GRAND PRIX 2024\n",
      "\tMeeting Name : Qatar Grand Prix\n",
      "\tMeeting Circuit Shortname : Lusail\n",
      "\t> Suggested search queries : [['qatar', 'airways', 'qatar', '2024'], ['qatar'], ['lusail']]\n",
      "\n",
      "\tMeeting Offname : FORMULA 1 QATAR AIRWAYS AZERBAIJAN GRAND PRIX 2024\n",
      "\tMeeting Name : Azerbaijan Grand Prix\n",
      "\tMeeting Circuit Shortname : Baku\n",
      "\t> Suggested search queries : [['qatar', 'airways', 'azerbaijan', '2024'], ['azerbaijan'], ['baku']]\n",
      "\n",
      "\tMeeting Offname : FORMULA 1 QATAR AIRWAYS BRITISH GRAND PRIX 2024\n",
      "\tMeeting Name : British Grand Prix\n",
      "\tMeeting Circuit Shortname : Silverstone\n",
      "\t> Suggested search queries : [['qatar', 'airways', 'british', '2024'], ['british'], ['silverstone']]\n",
      "\n",
      "\n",
      "16:09:30 - The identifier couldn't be found.\n",
      "16:09:30 - LiveF1Error - \n",
      "The searched query 'Brazil' not found in the table. Did you mean one of these :\n",
      "\n",
      "\tMeeting Offname : FORMULA 1 QATAR AIRWAYS QATAR GRAND PRIX 2023\n",
      "\tMeeting Name : Qatar Grand Prix\n",
      "\tMeeting Circuit Shortname : Lusail\n",
      "\t> Suggested search queries : [['qatar', 'airways', 'qatar', '2023'], ['qatar'], ['lusail']]\n",
      "\n",
      "\tMeeting Offname : FORMULA 1 GULF AIR BAHRAIN GRAND PRIX 2023\n",
      "\tMeeting Name : Bahrain Grand Prix\n",
      "\tMeeting Circuit Shortname : Sakhir\n",
      "\t> Suggested search queries : [['gulf', 'air', 'bahrain', '2023'], ['bahrain'], ['sakhir']]\n",
      "\n",
      "\tMeeting Offname : FORMULA 1 AZERBAIJAN GRAND PRIX 2023\n",
      "\tMeeting Name : Azerbaijan Grand Prix\n",
      "\tMeeting Circuit Shortname : Baku\n",
      "\t> Suggested search queries : [['azerbaijan', '2023'], ['azerbaijan'], ['baku']]\n",
      "\n",
      "\n",
      "16:09:30 - Endpoint not found: https://livetiming.formula1.com/static/2022/Index.json\n",
      "Traceback (most recent call last):\n",
      "  File \"c:\\Users\\EU10698\\GO\\GO\\Projects\\LiveF1\\livef1\\adapters\\livetimingf1_adapter.py\", line 65, in get\n",
      "    response.raise_for_status()\n",
      "  File \"c:\\Users\\EU10698\\venvs\\goktugPy\\Lib\\site-packages\\requests\\models.py\", line 1024, in raise_for_status\n",
      "    raise HTTPError(http_error_msg, response=self)\n",
      "requests.exceptions.HTTPError: 403 Client Error: Forbidden for url: https://livetiming.formula1.com/static/2022/Index.json\n",
      "16:09:30 - InvalidEndpointError - Endpoint not found: 2022/Index.json\n",
      "16:09:32 - The identifier couldn't be found.\n",
      "16:09:32 - LiveF1Error - \n",
      "The searched query 'Brazil' not found in the table. Did you mean one of these :\n",
      "\n",
      "\tMeeting Offname : FORMULA 1 OOREDOO QATAR GRAND PRIX 2021\n",
      "\tMeeting Name : Qatar Grand Prix\n",
      "\tMeeting Circuit Shortname : Losail\n",
      "\t> Suggested search queries : [['ooredoo', 'qatar', '2021'], ['qatar'], ['losail']]\n",
      "\n",
      "\tMeeting Offname : FORMULA 1 GULF AIR BAHRAIN GRAND PRIX 2021\n",
      "\tMeeting Name : Bahrain Grand Prix\n",
      "\tMeeting Circuit Shortname : Sakhir\n",
      "\t> Suggested search queries : [['gulf', 'air', 'bahrain', '2021'], ['bahrain'], ['sakhir']]\n",
      "\n",
      "\tMeeting Offname : FORMULA 1 AZERBAIJAN GRAND PRIX 2021\n",
      "\tMeeting Name : Azerbaijan Grand Prix\n",
      "\tMeeting Circuit Shortname : Baku\n",
      "\t> Suggested search queries : [['azerbaijan', '2021'], ['azerbaijan'], ['baku']]\n",
      "\n",
      "\n",
      "16:09:34 - The identifier couldn't be found.\n",
      "16:09:34 - LiveF1Error - \n",
      "The searched query 'Brazil' not found in the table. Did you mean one of these :\n",
      "\n",
      "\tMeeting Offname : FORMULA 1 GULF AIR BAHRAIN GRAND PRIX 2020\n",
      "\tMeeting Name : Bahrain Grand Prix\n",
      "\tMeeting Circuit Shortname : Sakhir\n",
      "\t> Suggested search queries : [['gulf', 'air', 'bahrain', '2020'], ['bahrain'], ['sakhir']]\n",
      "\n",
      "\tMeeting Offname : FORMULA 1 PIRELLI BRITISH GRAND PRIX 2020\n",
      "\tMeeting Name : British Grand Prix\n",
      "\tMeeting Circuit Shortname : Silverstone\n",
      "\t> Suggested search queries : [['pirelli', 'british', '2020'], ['british'], ['silverstone']]\n",
      "\n",
      "\tMeeting Offname : FORMULA 1 VTB RUSSIAN GRAND PRIX 2020\n",
      "\tMeeting Name : Russian Grand Prix\n",
      "\tMeeting Circuit Shortname : Sochi\n",
      "\t> Suggested search queries : [['vtb', 'russian', '2020'], ['russian'], ['sochi']]\n",
      "\n",
      "\n",
      "16:09:38 - The identifier couldn't be found.\n",
      "16:09:38 - The identifier is very close to 'Brazilian Grand Prix' at column 'MEETING NAME'\n",
      "16:09:38 - Selected meeting/session is:\n",
      "\tMeeting Offname : FORMULA 1 GRANDE PRÊMIO HEINEKEN DO BRASIL 2018\n",
      "\tMeeting Name : Brazilian Grand Prix\n",
      "\tMeeting Circuit Shortname : Interlagos\n",
      "16:09:38 - Got the meeting.\n"
     ]
    },
    {
     "name": "stdout",
     "output_type": "stream",
     "text": [
      "Meeting Circuit Shortname          United States\n",
      "Session Name                          Practice 1\n",
      "Start Date                   2025-10-17 17:30:00\n",
      "End Date                     2025-10-17 18:30:00\n",
      "Name: FORMULA 1 MSC CRUISES UNITED STATES GRAND PRIX 2025, dtype: object\n"
     ]
    },
    {
     "name": "stderr",
     "output_type": "stream",
     "text": [
      "16:09:39 - The identifier couldn't be found.\n",
      "16:09:39 - LiveF1Error - \n",
      "The searched query 'United States' not found in the table. Did you mean one of these :\n",
      "\n",
      "\tMeeting Offname : FORMULA 1 HEINEKEN CHINESE GRAND PRIX 2025\n",
      "\tMeeting Name : Chinese Grand Prix\n",
      "\tMeeting Circuit Shortname : Shanghai\n",
      "\t> Suggested search queries : [['heineken', 'chinese', '2025'], ['chinese'], ['shanghai']]\n",
      "\n",
      "\tMeeting Offname : FORMULA 1 TAG HEUER GRAND PRIX DE MONACO 2025\n",
      "\tMeeting Name : Monaco Grand Prix\n",
      "\tMeeting Circuit Shortname : Monte Carlo\n",
      "\t> Suggested search queries : [['tag', 'heuer', 'de', 'monaco', '2025'], ['monaco'], ['monte', 'carlo']]\n",
      "\n",
      "\tMeeting Offname : FORMULA 1 MSC CRUISES AUSTRIAN GRAND PRIX 2025\n",
      "\tMeeting Name : Austrian Grand Prix\n",
      "\tMeeting Circuit Shortname : Spielberg\n",
      "\t> Suggested search queries : [['msc', 'cruises', 'austrian', '2025'], ['austrian'], ['spielberg']]\n",
      "\n",
      "\n",
      "16:09:41 - Selected meeting/session is:\n",
      "\tMeeting Offname : FORMULA 1 PIRELLI UNITED STATES GRAND PRIX 2024\n",
      "\tMeeting Name : United States Grand Prix\n",
      "\tMeeting Circuit Shortname : Austin\n",
      "16:09:41 - Got the meeting.\n"
     ]
    },
    {
     "name": "stdout",
     "output_type": "stream",
     "text": [
      "Meeting Circuit Shortname                  Italy\n",
      "Session Name                          Practice 1\n",
      "Start Date                   2025-09-05 11:30:00\n",
      "End Date                     2025-09-05 12:30:00\n",
      "Name: FORMULA 1 PIRELLI GRAN PREMIO D’ITALIA 2025, dtype: object\n"
     ]
    },
    {
     "name": "stderr",
     "output_type": "stream",
     "text": [
      "16:09:42 - Selected meeting/session is:\n",
      "\tMeeting Offname : FORMULA 1 AWS GRAN PREMIO DEL MADE IN ITALY E DELL'EMILIA-ROMAGNA 2025\n",
      "\tMeeting Name : Emilia Romagna Grand Prix\n",
      "\tMeeting Circuit Shortname : Imola\n",
      "16:09:42 - Got the meeting.\n"
     ]
    },
    {
     "name": "stdout",
     "output_type": "stream",
     "text": [
      "Meeting Circuit Shortname                 Canada\n",
      "Session Name                          Practice 1\n",
      "Start Date                   2025-06-13 17:30:00\n",
      "End Date                     2025-06-13 18:30:00\n",
      "Name: FORMULA 1 PIRELLI GRAND PRIX DU CANADA 2025, dtype: object\n"
     ]
    },
    {
     "name": "stderr",
     "output_type": "stream",
     "text": [
      "16:09:44 - Selected meeting/session is:\n",
      "\tMeeting Offname : FORMULA 1 PIRELLI GRAND PRIX DU CANADA 2025\n",
      "\tMeeting Name : Canadian Grand Prix\n",
      "\tMeeting Circuit Shortname : Montreal\n",
      "16:09:44 - Got the meeting.\n"
     ]
    },
    {
     "name": "stdout",
     "output_type": "stream",
     "text": [
      "Meeting Circuit Shortname             Azerbaijan\n",
      "Session Name                          Practice 1\n",
      "Start Date                   2025-09-19 08:30:00\n",
      "End Date                     2025-09-19 09:30:00\n",
      "Name: FORMULA 1 QATAR AIRWAYS AZERBAIJAN GRAND PRIX 2025, dtype: object\n"
     ]
    },
    {
     "name": "stderr",
     "output_type": "stream",
     "text": [
      "16:09:46 - The identifier couldn't be found.\n",
      "16:09:46 - LiveF1Error - \n",
      "The searched query 'Azerbaijan' not found in the table. Did you mean one of these :\n",
      "\n",
      "\tMeeting Offname : FORMULA 1 GULF AIR BAHRAIN GRAND PRIX 2025\n",
      "\tMeeting Name : Bahrain Grand Prix\n",
      "\tMeeting Circuit Shortname : Sakhir\n",
      "\t> Suggested search queries : [['gulf', 'air', 'bahrain', '2025'], ['bahrain'], ['sakhir']]\n",
      "\n",
      "\tMeeting Offname : FORMULA 1 LOUIS VUITTON AUSTRALIAN GRAND PRIX 2025\n",
      "\tMeeting Name : Australian Grand Prix\n",
      "\tMeeting Circuit Shortname : Melbourne\n",
      "\t> Suggested search queries : [['louis', 'vuitton', 'australian', '2025'], ['australian'], ['melbourne']]\n",
      "\n",
      "\tMeeting Offname : FORMULA 1 PIRELLI GRAND PRIX DU CANADA 2025\n",
      "\tMeeting Name : Canadian Grand Prix\n",
      "\tMeeting Circuit Shortname : Montreal\n",
      "\t> Suggested search queries : [['pirelli', 'du', 'canada', '2025'], ['canadian'], ['montreal']]\n",
      "\n",
      "\n",
      "16:09:47 - Selected meeting/session is:\n",
      "\tMeeting Offname : FORMULA 1 QATAR AIRWAYS AZERBAIJAN GRAND PRIX 2024\n",
      "\tMeeting Name : Azerbaijan Grand Prix\n",
      "\tMeeting Circuit Shortname : Baku\n",
      "16:09:47 - Got the meeting.\n"
     ]
    },
    {
     "name": "stdout",
     "output_type": "stream",
     "text": [
      "Meeting Circuit Shortname          Great Britain\n",
      "Session Name                          Practice 1\n",
      "Start Date                   2025-07-04 11:30:00\n",
      "End Date                     2025-07-04 12:30:00\n",
      "Name: FORMULA 1 QATAR AIRWAYS BRITISH GRAND PRIX 2025, dtype: object\n"
     ]
    },
    {
     "name": "stderr",
     "output_type": "stream",
     "text": [
      "16:09:49 - The identifier couldn't be found.\n",
      "16:09:49 - LiveF1Error - \n",
      "The searched query 'Great Britain' not found in the table. Did you mean one of these :\n",
      "\n",
      "\tMeeting Offname : FORMULA 1 MSC CRUISES AUSTRIAN GRAND PRIX 2025\n",
      "\tMeeting Name : Austrian Grand Prix\n",
      "\tMeeting Circuit Shortname : Spielberg\n",
      "\t> Suggested search queries : [['msc', 'cruises', 'austrian', '2025'], ['austrian'], ['spielberg']]\n",
      "\n",
      "\tMeeting Offname : FORMULA 1 STC SAUDI ARABIAN GRAND PRIX 2025\n",
      "\tMeeting Name : Saudi Arabian Grand Prix\n",
      "\tMeeting Circuit Shortname : Jeddah\n",
      "\t> Suggested search queries : [['stc', 'saudi', 'arabian', '2025'], ['saudi', 'arabian'], ['jeddah']]\n",
      "\n",
      "\tMeeting Offname : FORMULA 1 GULF AIR BAHRAIN GRAND PRIX 2025\n",
      "\tMeeting Name : Bahrain Grand Prix\n",
      "\tMeeting Circuit Shortname : Sakhir\n",
      "\t> Suggested search queries : [['gulf', 'air', 'bahrain', '2025'], ['bahrain'], ['sakhir']]\n",
      "\n",
      "\n",
      "16:09:50 - The identifier couldn't be found.\n",
      "16:09:50 - LiveF1Error - \n",
      "The searched query 'Great Britain' not found in the table. Did you mean one of these :\n",
      "\n",
      "\tMeeting Offname : FORMULA 1 QATAR AIRWAYS AUSTRIAN GRAND PRIX 2024\n",
      "\tMeeting Name : Austrian Grand Prix\n",
      "\tMeeting Circuit Shortname : Spielberg\n",
      "\t> Suggested search queries : [['qatar', 'airways', 'austrian', '2024'], ['austrian'], ['spielberg']]\n",
      "\n",
      "\tMeeting Offname : FORMULA 1 HUNGARIAN GRAND PRIX 2024\n",
      "\tMeeting Name : Hungarian Grand Prix\n",
      "\tMeeting Circuit Shortname : Hungaroring\n",
      "\t> Suggested search queries : [['hungarian', '2024'], ['hungarian'], ['hungaroring']]\n",
      "\n",
      "\tMeeting Offname : FORMULA 1 QATAR AIRWAYS AZERBAIJAN GRAND PRIX 2024\n",
      "\tMeeting Name : Azerbaijan Grand Prix\n",
      "\tMeeting Circuit Shortname : Baku\n",
      "\t> Suggested search queries : [['qatar', 'airways', 'azerbaijan', '2024'], ['azerbaijan'], ['baku']]\n",
      "\n",
      "\n",
      "16:09:53 - The identifier couldn't be found.\n",
      "16:09:53 - LiveF1Error - \n",
      "The searched query 'Great Britain' not found in the table. Did you mean one of these :\n",
      "\n",
      "\tMeeting Offname : FORMULA 1 ROLEX GROSSER PREIS VON ÖSTERREICH 2023\n",
      "\tMeeting Name : Austrian Grand Prix\n",
      "\tMeeting Circuit Shortname : Spielberg\n",
      "\t> Suggested search queries : [['rolex', 'grosser', 'preis', 'von', 'österreich', '2023'], ['austrian'], ['spielberg']]\n",
      "\n",
      "\tMeeting Offname : FORMULA 1 STC SAUDI ARABIAN GRAND PRIX 2023\n",
      "\tMeeting Name : Saudi Arabian Grand Prix\n",
      "\tMeeting Circuit Shortname : Jeddah\n",
      "\t> Suggested search queries : [['stc', 'saudi', 'arabian', '2023'], ['saudi', 'arabian'], ['jeddah']]\n",
      "\n",
      "\tMeeting Offname : FORMULA 1 QATAR AIRWAYS HUNGARIAN GRAND PRIX 2023\n",
      "\tMeeting Name : Hungarian Grand Prix\n",
      "\tMeeting Circuit Shortname : Hungaroring\n",
      "\t> Suggested search queries : [['qatar', 'airways', 'hungarian', '2023'], ['hungarian'], ['hungaroring']]\n",
      "\n",
      "\n",
      "16:09:53 - Endpoint not found: https://livetiming.formula1.com/static/2022/Index.json\n",
      "Traceback (most recent call last):\n",
      "  File \"c:\\Users\\EU10698\\GO\\GO\\Projects\\LiveF1\\livef1\\adapters\\livetimingf1_adapter.py\", line 65, in get\n",
      "    response.raise_for_status()\n",
      "  File \"c:\\Users\\EU10698\\venvs\\goktugPy\\Lib\\site-packages\\requests\\models.py\", line 1024, in raise_for_status\n",
      "    raise HTTPError(http_error_msg, response=self)\n",
      "requests.exceptions.HTTPError: 403 Client Error: Forbidden for url: https://livetiming.formula1.com/static/2022/Index.json\n",
      "16:09:53 - InvalidEndpointError - Endpoint not found: 2022/Index.json\n",
      "16:09:55 - The identifier couldn't be found.\n",
      "16:09:55 - LiveF1Error - \n",
      "The searched query 'Great Britain' not found in the table. Did you mean one of these :\n",
      "\n",
      "\tMeeting Offname : FORMULA 1 BWT GROSSER PREIS VON ÖSTERREICH 2021\n",
      "\tMeeting Name : Austrian Grand Prix\n",
      "\tMeeting Circuit Shortname : Spielberg\n",
      "\t> Suggested search queries : [['bwt', 'grosser', 'preis', 'von', 'österreich', '2021'], ['austrian'], ['spielberg']]\n",
      "\n",
      "\tMeeting Offname : FORMULA 1 STC SAUDI ARABIAN GRAND PRIX 2021\n",
      "\tMeeting Name : Saudi Arabian Grand Prix\n",
      "\tMeeting Circuit Shortname : Jeddah\n",
      "\t> Suggested search queries : [['stc', 'saudi', 'arabian', '2021'], ['saudi', 'arabian'], ['jeddah']]\n",
      "\n",
      "\tMeeting Offname : FORMULA 1 ROLEX MAGYAR NAGYDÍJ 2021\n",
      "\tMeeting Name : Hungarian Grand Prix\n",
      "\tMeeting Circuit Shortname : Hungaroring\n",
      "\t> Suggested search queries : [['rolex', 'magyar', 'nagydíj', '2021'], ['hungarian'], ['hungaroring']]\n",
      "\n",
      "\n",
      "16:09:57 - The identifier couldn't be found.\n",
      "16:09:57 - LiveF1Error - \n",
      "The searched query 'Great Britain' not found in the table. Did you mean one of these :\n",
      "\n",
      "\tMeeting Offname : FORMULA 1 ROLEX GROSSER PREIS VON ÖSTERREICH 2020\n",
      "\tMeeting Name : Austrian Grand Prix\n",
      "\tMeeting Circuit Shortname : Spielberg\n",
      "\t> Suggested search queries : [['rolex', 'grosser', 'preis', 'von', 'österreich', '2020'], ['austrian'], ['spielberg']]\n",
      "\n",
      "\tMeeting Offname : FORMULA 1 ARAMCO MAGYAR NAGYDÍJ 2020\n",
      "\tMeeting Name : Hungarian Grand Prix\n",
      "\tMeeting Circuit Shortname : Hungaroring\n",
      "\t> Suggested search queries : [['aramco', 'magyar', 'nagydíj', '2020'], ['hungarian'], ['hungaroring']]\n",
      "\n",
      "\tMeeting Offname : FORMULA 1 GULF AIR BAHRAIN GRAND PRIX 2020\n",
      "\tMeeting Name : Bahrain Grand Prix\n",
      "\tMeeting Circuit Shortname : Sakhir\n",
      "\t> Suggested search queries : [['gulf', 'air', 'bahrain', '2020'], ['bahrain'], ['sakhir']]\n",
      "\n",
      "\n",
      "16:09:59 - The identifier couldn't be found.\n",
      "16:09:59 - LiveF1Error - \n",
      "The searched query 'Great Britain' not found in the table. Did you mean one of these :\n",
      "\n",
      "\tMeeting Offname : FORMULA 1 MYWORLD GROSSER PREIS VON ÖSTERREICH 2019\n",
      "\tMeeting Name : Austrian Grand Prix\n",
      "\tMeeting Circuit Shortname : Spielberg\n",
      "\t> Suggested search queries : [['myworld', 'grosser', 'preis', 'von', 'österreich', '2019'], ['austrian'], ['spielberg']]\n",
      "\n",
      "\tMeeting Offname : FORMULA 1 MAGYAR NAGYDÍJ 2019\n",
      "\tMeeting Name : Hungarian Grand Prix\n",
      "\tMeeting Circuit Shortname : Hungaroring\n",
      "\t> Suggested search queries : [['magyar', 'nagydíj', '2019'], ['hungarian'], ['hungaroring']]\n",
      "\n",
      "\tMeeting Offname : FORMULA 1 HEINEKEN GRANDE PRÊMIO DO BRASIL 2019\n",
      "\tMeeting Name : Brazilian Grand Prix\n",
      "\tMeeting Circuit Shortname : Interlagos\n",
      "\t> Suggested search queries : [['heineken', 'grande', 'prêmio', 'do', 'brasil', '2019'], ['brazilian'], ['interlagos']]\n",
      "\n",
      "\n",
      "16:10:01 - The identifier couldn't be found.\n",
      "16:10:01 - LiveF1Error - \n",
      "The searched query 'Great Britain' not found in the table. Did you mean one of these :\n",
      "\n",
      "\tMeeting Offname : FORMULA 1 EYETIME GROSSER PREIS VON ÖSTERREICH 2018\n",
      "\tMeeting Name : Austrian Grand Prix\n",
      "\tMeeting Circuit Shortname : Spielberg\n",
      "\t> Suggested search queries : [['eyetime', 'grosser', 'preis', 'von', 'österreich', '2018'], ['austrian'], ['spielberg']]\n",
      "\n",
      "\tMeeting Offname : FORMULA 1 ROLEX MAGYAR NAGYDÍJ 2018\n",
      "\tMeeting Name : Hungarian Grand Prix\n",
      "\tMeeting Circuit Shortname : Hungaroring\n",
      "\t> Suggested search queries : [['rolex', 'magyar', 'nagydíj', '2018'], ['hungarian'], ['hungaroring']]\n",
      "\n",
      "\tMeeting Offname : FORMULA 1 GRANDE PRÊMIO HEINEKEN DO BRASIL 2018\n",
      "\tMeeting Name : Brazilian Grand Prix\n",
      "\tMeeting Circuit Shortname : Interlagos\n",
      "\t> Suggested search queries : [['grande', 'prêmio', 'heineken', 'do', 'brasil', '2018'], ['brazilian'], ['interlagos']]\n",
      "\n",
      "\n"
     ]
    },
    {
     "name": "stdout",
     "output_type": "stream",
     "text": [
      "Meeting Circuit Shortname                  Qatar\n",
      "Session Name                          Practice 1\n",
      "Start Date                   2025-11-28 13:30:00\n",
      "End Date                     2025-11-28 14:30:00\n",
      "Name: FORMULA 1 QATAR AIRWAYS QATAR GRAND PRIX 2025, dtype: object\n"
     ]
    },
    {
     "name": "stderr",
     "output_type": "stream",
     "text": [
      "16:10:03 - Selected meeting/session is:\n",
      "\tMeeting Offname : FORMULA 1 QATAR AIRWAYS BRITISH GRAND PRIX 2025\n",
      "\tMeeting Name : British Grand Prix\n",
      "\tMeeting Circuit Shortname : Silverstone\n",
      "16:10:03 - Got the meeting.\n"
     ]
    },
    {
     "name": "stdout",
     "output_type": "stream",
     "text": [
      "Meeting Circuit Shortname              Singapore\n",
      "Session Name                          Practice 1\n",
      "Start Date                   2025-10-03 09:30:00\n",
      "End Date                     2025-10-03 10:30:00\n",
      "Name: FORMULA 1 SINGAPORE AIRLINES SINGAPORE GRAND PRIX 2025, dtype: object\n"
     ]
    },
    {
     "name": "stderr",
     "output_type": "stream",
     "text": [
      "16:10:05 - The identifier couldn't be found.\n",
      "16:10:05 - LiveF1Error - \n",
      "The searched query 'Singapore' not found in the table. Did you mean one of these :\n",
      "\n",
      "\tMeeting Offname : FORMULA 1 GULF AIR BAHRAIN GRAND PRIX 2025\n",
      "\tMeeting Name : Bahrain Grand Prix\n",
      "\tMeeting Circuit Shortname : Sakhir\n",
      "\t> Suggested search queries : [['gulf', 'air', 'bahrain', '2025'], ['bahrain'], ['sakhir']]\n",
      "\n",
      "\tMeeting Offname : FORMULA 1 ARAMCO PRE-SEASON TESTING 2025\n",
      "\tMeeting Name : Pre-Season Testing\n",
      "\tMeeting Circuit Shortname : Sakhir\n",
      "\t> Suggested search queries : [['aramco', 'pre', 'season', 'testing', '2025'], ['pre', 'season', 'testing'], ['sakhir']]\n",
      "\n",
      "\tMeeting Offname : FORMULA 1 TAG HEUER GRAND PRIX DE MONACO 2025\n",
      "\tMeeting Name : Monaco Grand Prix\n",
      "\tMeeting Circuit Shortname : Monte Carlo\n",
      "\t> Suggested search queries : [['tag', 'heuer', 'de', 'monaco', '2025'], ['monaco'], ['monte', 'carlo']]\n",
      "\n",
      "\n",
      "16:10:06 - Selected meeting/session is:\n",
      "\tMeeting Offname : FORMULA 1 SINGAPORE AIRLINES SINGAPORE GRAND PRIX 2024\n",
      "\tMeeting Name : Singapore Grand Prix\n",
      "\tMeeting Circuit Shortname : Singapore\n",
      "16:10:06 - Got the meeting.\n"
     ]
    },
    {
     "name": "stdout",
     "output_type": "stream",
     "text": [
      "Meeting Circuit Shortname           Saudi Arabia\n",
      "Session Name                          Practice 1\n",
      "Start Date                   2025-04-18 13:30:00\n",
      "End Date                     2025-04-18 14:30:00\n",
      "Name: FORMULA 1 STC SAUDI ARABIAN GRAND PRIX 2025, dtype: object\n"
     ]
    },
    {
     "name": "stderr",
     "output_type": "stream",
     "text": [
      "16:10:08 - Selected meeting/session is:\n",
      "\tMeeting Offname : FORMULA 1 STC SAUDI ARABIAN GRAND PRIX 2025\n",
      "\tMeeting Name : Saudi Arabian Grand Prix\n",
      "\tMeeting Circuit Shortname : Jeddah\n",
      "16:10:08 - Got the meeting.\n"
     ]
    },
    {
     "name": "stdout",
     "output_type": "stream",
     "text": [
      "Meeting Circuit Shortname                 Monaco\n",
      "Session Name                          Practice 1\n",
      "Start Date                   2025-05-23 11:30:00\n",
      "End Date                     2025-05-23 12:30:00\n",
      "Name: FORMULA 1 TAG HEUER GRAND PRIX DE MONACO 2025, dtype: object\n"
     ]
    },
    {
     "name": "stderr",
     "output_type": "stream",
     "text": [
      "16:10:09 - Selected meeting/session is:\n",
      "\tMeeting Offname : FORMULA 1 TAG HEUER GRAND PRIX DE MONACO 2025\n",
      "\tMeeting Name : Monaco Grand Prix\n",
      "\tMeeting Circuit Shortname : Monte Carlo\n",
      "16:10:09 - Got the meeting.\n"
     ]
    }
   ],
   "source": [
    "for _, row in schedule.groupby(\"Meeting Offname\").first().iterrows():\n",
    "    print(row)\n",
    "    circuit = row[\"Meeting Circuit Shortname\"]\n",
    "\n",
    "    for year in [2025,2024,2023,2022,2021,2020,2019,2018]:\n",
    "        try:\n",
    "            m = livef1.get_meeting(year, circuit)\n",
    "            break\n",
    "        except:\n",
    "            pass"
   ]
  },
  {
   "cell_type": "code",
   "execution_count": 17,
   "id": "b9595bd9",
   "metadata": {},
   "outputs": [
    {
     "name": "stdout",
     "output_type": "stream",
     "text": [
      "Sakhir\n"
     ]
    },
    {
     "name": "stderr",
     "output_type": "stream",
     "text": [
      "14:41:35 - The identifier couldn't be found.\n",
      "14:41:35 - LiveF1Error - \n",
      "The searched query 'Sakhir' not found in the table. Did you mean one of these :\n",
      "\n",
      "\tMeeting Offname : FORMULA 1 QATAR AIRWAYS QATAR GRAND PRIX 2024\n",
      "\tMeeting Name : Qatar Grand Prix\n",
      "\tMeeting Circuit Shortname : Lusail\n",
      "\t> Suggested search queries : [['qatar', 'airways', 'qatar', '2024'], ['qatar'], ['lusail']]\n",
      "\n",
      "\tMeeting Offname : FORMULA 1 ARAMCO GRAN PREMIO DE ESPAÑA 2024\n",
      "\tMeeting Name : Spanish Grand Prix\n",
      "\tMeeting Circuit Shortname : Catalunya\n",
      "\t> Suggested search queries : [['aramco', 'gran', 'premio', 'de', 'españa', '2024'], ['spanish'], ['catalunya']]\n",
      "\n",
      "\tMeeting Offname : FORMULA 1 SINGAPORE AIRLINES SINGAPORE GRAND PRIX 2024\n",
      "\tMeeting Name : Singapore Grand Prix\n",
      "\tMeeting Circuit Shortname : Singapore\n",
      "\t> Suggested search queries : [['singapore', 'airlines', 'singapore', '2024'], ['singapore'], ['singapore']]\n",
      "\n",
      "\n"
     ]
    },
    {
     "name": "stdout",
     "output_type": "stream",
     "text": [
      "Not found in 2024\n"
     ]
    },
    {
     "name": "stderr",
     "output_type": "stream",
     "text": [
      "14:41:38 - Selected meeting/session is:\n",
      "\tMeeting Offname : FORMULA 1 GULF AIR BAHRAIN GRAND PRIX 2023\n",
      "\tMeeting Name : Bahrain Grand Prix\n",
      "\tMeeting Circuit Shortname : Sakhir\n",
      "14:41:38 - Got the meeting.\n"
     ]
    },
    {
     "name": "stdout",
     "output_type": "stream",
     "text": [
      "Australia\n"
     ]
    },
    {
     "name": "stderr",
     "output_type": "stream",
     "text": [
      "14:41:40 - The identifier couldn't be found.\n",
      "14:41:40 - The identifier is very close to 'Austrian Grand Prix' at column 'MEETING NAME'\n",
      "14:41:40 - Selected meeting/session is:\n",
      "\tMeeting Offname : FORMULA 1 QATAR AIRWAYS AUSTRIAN GRAND PRIX 2024\n",
      "\tMeeting Name : Austrian Grand Prix\n",
      "\tMeeting Circuit Shortname : Spielberg\n",
      "14:41:40 - Got the meeting.\n"
     ]
    },
    {
     "name": "stdout",
     "output_type": "stream",
     "text": [
      "China\n"
     ]
    },
    {
     "name": "stderr",
     "output_type": "stream",
     "text": [
      "14:41:41 - The identifier couldn't be found.\n",
      "14:41:41 - LiveF1Error - \n",
      "The searched query 'China' not found in the table. Did you mean one of these :\n",
      "\n",
      "\tMeeting Offname : FORMULA 1 HUNGARIAN GRAND PRIX 2024\n",
      "\tMeeting Name : Hungarian Grand Prix\n",
      "\tMeeting Circuit Shortname : Hungaroring\n",
      "\t> Suggested search queries : [['hungarian', '2024'], ['hungarian'], ['hungaroring']]\n",
      "\n",
      "\tMeeting Offname : FORMULA 1 SINGAPORE AIRLINES SINGAPORE GRAND PRIX 2024\n",
      "\tMeeting Name : Singapore Grand Prix\n",
      "\tMeeting Circuit Shortname : Singapore\n",
      "\t> Suggested search queries : [['singapore', 'airlines', 'singapore', '2024'], ['singapore'], ['singapore']]\n",
      "\n",
      "\tMeeting Offname : FORMULA 1 HEINEKEN SILVER LAS VEGAS GRAND PRIX 2024\n",
      "\tMeeting Name : Las Vegas Grand Prix\n",
      "\tMeeting Circuit Shortname : Las Vegas\n",
      "\t> Suggested search queries : [['heineken', 'silver', 'las', 'vegas', '2024'], ['las', 'vegas'], ['las', 'vegas']]\n",
      "\n",
      "\n"
     ]
    },
    {
     "name": "stdout",
     "output_type": "stream",
     "text": [
      "Not found in 2024\n"
     ]
    },
    {
     "name": "stderr",
     "output_type": "stream",
     "text": [
      "14:41:44 - The identifier couldn't be found.\n",
      "14:41:44 - LiveF1Error - \n",
      "The searched query 'China' not found in the table. Did you mean one of these :\n",
      "\n",
      "\tMeeting Offname : FORMULA 1 PIRELLI GRAND PRIX DU CANADA 2023\n",
      "\tMeeting Name : Canadian Grand Prix\n",
      "\tMeeting Circuit Shortname : Montreal\n",
      "\t> Suggested search queries : [['pirelli', 'du', 'canada', '2023'], ['canadian'], ['montreal']]\n",
      "\n",
      "\tMeeting Offname : FORMULA 1 QATAR AIRWAYS HUNGARIAN GRAND PRIX 2023\n",
      "\tMeeting Name : Hungarian Grand Prix\n",
      "\tMeeting Circuit Shortname : Hungaroring\n",
      "\t> Suggested search queries : [['qatar', 'airways', 'hungarian', '2023'], ['hungarian'], ['hungaroring']]\n",
      "\n",
      "\tMeeting Offname : FORMULA 1 SINGAPORE AIRLINES SINGAPORE GRAND PRIX 2023 \n",
      "\tMeeting Name : Singapore Grand Prix\n",
      "\tMeeting Circuit Shortname : Singapore\n",
      "\t> Suggested search queries : [['singapore', 'airlines', 'singapore', '2023', ''], ['singapore'], ['singapore']]\n",
      "\n",
      "\n",
      "14:41:44 - Endpoint not found: https://livetiming.formula1.com/static/2022/Index.json\n",
      "Traceback (most recent call last):\n",
      "  File \"c:\\Users\\EU10698\\GO\\GO\\Projects\\LiveF1\\livef1\\adapters\\livetimingf1_adapter.py\", line 65, in get\n",
      "    response.raise_for_status()\n",
      "  File \"c:\\Users\\EU10698\\venvs\\goktugPy\\Lib\\site-packages\\requests\\models.py\", line 1024, in raise_for_status\n",
      "    raise HTTPError(http_error_msg, response=self)\n",
      "requests.exceptions.HTTPError: 403 Client Error: Forbidden for url: https://livetiming.formula1.com/static/2022/Index.json\n",
      "14:41:44 - InvalidEndpointError - Endpoint not found: 2022/Index.json\n"
     ]
    },
    {
     "name": "stdout",
     "output_type": "stream",
     "text": [
      "Not found in 2023\n",
      "Not found in 2022\n"
     ]
    },
    {
     "name": "stderr",
     "output_type": "stream",
     "text": [
      "14:41:46 - The identifier couldn't be found.\n",
      "14:41:46 - LiveF1Error - \n",
      "The searched query 'China' not found in the table. Did you mean one of these :\n",
      "\n",
      "\tMeeting Offname : FORMULA 1 ROLEX MAGYAR NAGYDÍJ 2021\n",
      "\tMeeting Name : Hungarian Grand Prix\n",
      "\tMeeting Circuit Shortname : Hungaroring\n",
      "\t> Suggested search queries : [['rolex', 'magyar', 'nagydíj', '2021'], ['hungarian'], ['hungaroring']]\n",
      "\n",
      "\tMeeting Offname : FORMULA 1 HEINEKEN GRAN PREMIO D’ITALIA 2021\n",
      "\tMeeting Name : Italian Grand Prix\n",
      "\tMeeting Circuit Shortname : Monza\n",
      "\t> Suggested search queries : [['heineken', 'gran', 'premio', 'd’italia', '2021'], ['italian'], ['monza']]\n",
      "\n",
      "\tMeeting Offname : FORMULA 1 HEINEKEN GRANDE PRÉMIO DE PORTUGAL 2021\n",
      "\tMeeting Name : Portuguese Grand Prix\n",
      "\tMeeting Circuit Shortname : Algarve International Circuit\n",
      "\t> Suggested search queries : [['heineken', 'grande', 'prémio', 'de', 'portugal', '2021'], ['portuguese'], ['algarve', 'international', 'circuit']]\n",
      "\n",
      "\n"
     ]
    },
    {
     "name": "stdout",
     "output_type": "stream",
     "text": [
      "Not found in 2021\n"
     ]
    },
    {
     "name": "stderr",
     "output_type": "stream",
     "text": [
      "14:41:48 - The identifier couldn't be found.\n",
      "14:41:48 - LiveF1Error - \n",
      "The searched query 'China' not found in the table. Did you mean one of these :\n",
      "\n",
      "\tMeeting Offname : FORMULA 1 ARAMCO MAGYAR NAGYDÍJ 2020\n",
      "\tMeeting Name : Hungarian Grand Prix\n",
      "\tMeeting Circuit Shortname : Hungaroring\n",
      "\t> Suggested search queries : [['aramco', 'magyar', 'nagydíj', '2020'], ['hungarian'], ['hungaroring']]\n",
      "\n",
      "\tMeeting Offname : FORMULA 1 HEINEKEN GRANDE PRÉMIO DE PORTUGAL 2020\n",
      "\tMeeting Name : Portuguese Grand Prix\n",
      "\tMeeting Circuit Shortname : Algarve International Circuit\n",
      "\t> Suggested search queries : [['heineken', 'grande', 'prémio', 'de', 'portugal', '2020'], ['portuguese'], ['algarve', 'international', 'circuit']]\n",
      "\n",
      "\tMeeting Offname : EMIRATES FORMULA 1 70TH ANNIVERSARY GRAND PRIX 2020\n",
      "\tMeeting Name : 70th Anniversary Grand Prix\n",
      "\tMeeting Circuit Shortname : Silverstone\n",
      "\t> Suggested search queries : [['emirates', '70th', 'anniversary', '2020'], ['70th', 'anniversary'], ['silverstone']]\n",
      "\n",
      "\n"
     ]
    },
    {
     "name": "stdout",
     "output_type": "stream",
     "text": [
      "Not found in 2020\n"
     ]
    },
    {
     "name": "stderr",
     "output_type": "stream",
     "text": [
      "14:41:51 - The identifier couldn't be found.\n",
      "14:41:51 - LiveF1Error - \n",
      "The searched query 'China' not found in the table. Did you mean one of these :\n",
      "\n",
      "\tMeeting Offname : FORMULA 1 HEINEKEN CHINESE GRAND PRIX 2019\n",
      "\tMeeting Name : Chinese Grand Prix\n",
      "\tMeeting Circuit Shortname : Shanghai\n",
      "\t> Suggested search queries : [['heineken', 'chinese', '2019'], ['chinese'], ['shanghai']]\n",
      "\n",
      "\tMeeting Offname : FORMULA 1 PIRELLI GRAND PRIX DU CANADA 2019\n",
      "\tMeeting Name : Canadian Grand Prix\n",
      "\tMeeting Circuit Shortname : Montreal\n",
      "\t> Suggested search queries : [['pirelli', 'du', 'canada', '2019'], ['canadian'], ['montreal']]\n",
      "\n",
      "\tMeeting Offname : FORMULA 1 MAGYAR NAGYDÍJ 2019\n",
      "\tMeeting Name : Hungarian Grand Prix\n",
      "\tMeeting Circuit Shortname : Hungaroring\n",
      "\t> Suggested search queries : [['magyar', 'nagydíj', '2019'], ['hungarian'], ['hungaroring']]\n",
      "\n",
      "\n"
     ]
    },
    {
     "name": "stdout",
     "output_type": "stream",
     "text": [
      "Not found in 2019\n"
     ]
    },
    {
     "name": "stderr",
     "output_type": "stream",
     "text": [
      "14:41:53 - The identifier couldn't be found.\n",
      "14:41:53 - LiveF1Error - \n",
      "The searched query 'China' not found in the table. Did you mean one of these :\n",
      "\n",
      "\tMeeting Offname : FORMULA 1 2018 HEINEKEN CHINESE GRAND PRIX\n",
      "\tMeeting Name : Chinese Grand Prix\n",
      "\tMeeting Circuit Shortname : Shanghai\n",
      "\t> Suggested search queries : [['2018', 'heineken', 'chinese'], ['chinese'], ['shanghai']]\n",
      "\n",
      "\tMeeting Offname : FORMULA 1 GRAND PRIX HEINEKEN DU CANADA 2018\n",
      "\tMeeting Name : Canadian Grand Prix\n",
      "\tMeeting Circuit Shortname : Montreal\n",
      "\t> Suggested search queries : [['heineken', 'du', 'canada', '2018'], ['canadian'], ['montreal']]\n",
      "\n",
      "\tMeeting Offname : FORMULA 1 ROLEX MAGYAR NAGYDÍJ 2018\n",
      "\tMeeting Name : Hungarian Grand Prix\n",
      "\tMeeting Circuit Shortname : Hungaroring\n",
      "\t> Suggested search queries : [['rolex', 'magyar', 'nagydíj', '2018'], ['hungarian'], ['hungaroring']]\n",
      "\n",
      "\n"
     ]
    },
    {
     "name": "stdout",
     "output_type": "stream",
     "text": [
      "Not found in 2018\n",
      "Japan\n"
     ]
    },
    {
     "name": "stderr",
     "output_type": "stream",
     "text": [
      "14:41:54 - The identifier couldn't be found.\n",
      "14:41:54 - LiveF1Error - \n",
      "The searched query 'Japan' not found in the table. Did you mean one of these :\n",
      "\n",
      "\tMeeting Offname : FORMULA 1 PIRELLI GRAN PREMIO D’ITALIA 2024\n",
      "\tMeeting Name : Italian Grand Prix\n",
      "\tMeeting Circuit Shortname : Monza\n",
      "\t> Suggested search queries : [['pirelli', 'gran', 'premio', 'd’italia', '2024'], ['italian'], ['monza']]\n",
      "\n",
      "\tMeeting Offname : FORMULA 1 QATAR AIRWAYS AUSTRIAN GRAND PRIX 2024\n",
      "\tMeeting Name : Austrian Grand Prix\n",
      "\tMeeting Circuit Shortname : Spielberg\n",
      "\t> Suggested search queries : [['qatar', 'airways', 'austrian', '2024'], ['austrian'], ['spielberg']]\n",
      "\n",
      "\tMeeting Offname : FORMULA 1 ARAMCO GRAN PREMIO DE ESPAÑA 2024\n",
      "\tMeeting Name : Spanish Grand Prix\n",
      "\tMeeting Circuit Shortname : Catalunya\n",
      "\t> Suggested search queries : [['aramco', 'gran', 'premio', 'de', 'españa', '2024'], ['spanish'], ['catalunya']]\n",
      "\n",
      "\n"
     ]
    },
    {
     "name": "stdout",
     "output_type": "stream",
     "text": [
      "Not found in 2024\n"
     ]
    },
    {
     "name": "stderr",
     "output_type": "stream",
     "text": [
      "14:41:57 - The identifier couldn't be found.\n",
      "14:41:57 - The identifier is very close to 'Japanese Grand Prix' at column 'MEETING NAME'\n",
      "14:41:57 - Selected meeting/session is:\n",
      "\tMeeting Offname : FORMULA 1 LENOVO JAPANESE GRAND PRIX 2023 \n",
      "\tMeeting Name : Japanese Grand Prix\n",
      "\tMeeting Circuit Shortname : Suzuka\n",
      "14:41:57 - Got the meeting.\n"
     ]
    },
    {
     "name": "stdout",
     "output_type": "stream",
     "text": [
      "Bahrain\n"
     ]
    },
    {
     "name": "stderr",
     "output_type": "stream",
     "text": [
      "14:41:58 - The identifier couldn't be found.\n",
      "14:41:58 - LiveF1Error - \n",
      "The searched query 'Bahrain' not found in the table. Did you mean one of these :\n",
      "\n",
      "\tMeeting Offname : FORMULA 1 QATAR AIRWAYS AZERBAIJAN GRAND PRIX 2024\n",
      "\tMeeting Name : Azerbaijan Grand Prix\n",
      "\tMeeting Circuit Shortname : Baku\n",
      "\t> Suggested search queries : [['qatar', 'airways', 'azerbaijan', '2024'], ['azerbaijan'], ['baku']]\n",
      "\n",
      "\tMeeting Offname : FORMULA 1 HUNGARIAN GRAND PRIX 2024\n",
      "\tMeeting Name : Hungarian Grand Prix\n",
      "\tMeeting Circuit Shortname : Hungaroring\n",
      "\t> Suggested search queries : [['hungarian', '2024'], ['hungarian'], ['hungaroring']]\n",
      "\n",
      "\tMeeting Offname : FORMULA 1 QATAR AIRWAYS AUSTRIAN GRAND PRIX 2024\n",
      "\tMeeting Name : Austrian Grand Prix\n",
      "\tMeeting Circuit Shortname : Spielberg\n",
      "\t> Suggested search queries : [['qatar', 'airways', 'austrian', '2024'], ['austrian'], ['spielberg']]\n",
      "\n",
      "\n"
     ]
    },
    {
     "name": "stdout",
     "output_type": "stream",
     "text": [
      "Not found in 2024\n"
     ]
    },
    {
     "name": "stderr",
     "output_type": "stream",
     "text": [
      "14:42:01 - Selected meeting/session is:\n",
      "\tMeeting Offname : FORMULA 1 GULF AIR BAHRAIN GRAND PRIX 2023\n",
      "\tMeeting Name : Bahrain Grand Prix\n",
      "\tMeeting Circuit Shortname : Sakhir\n",
      "14:42:01 - Got the meeting.\n"
     ]
    },
    {
     "name": "stdout",
     "output_type": "stream",
     "text": [
      "Saudi Arabia\n"
     ]
    },
    {
     "name": "stderr",
     "output_type": "stream",
     "text": [
      "14:42:02 - The identifier couldn't be found.\n",
      "14:42:02 - LiveF1Error - \n",
      "The searched query 'Saudi Arabia' not found in the table. Did you mean one of these :\n",
      "\n",
      "\tMeeting Offname : FORMULA 1 ETIHAD AIRWAYS ABU DHABI GRAND PRIX 2024\n",
      "\tMeeting Name : Abu Dhabi Grand Prix\n",
      "\tMeeting Circuit Shortname : Yas Marina Circuit\n",
      "\t> Suggested search queries : [['etihad', 'airways', 'abu', 'dhabi', '2024'], ['abu', 'dhabi'], ['yas', 'marina', 'circuit']]\n",
      "\n",
      "\tMeeting Offname : FORMULA 1 QATAR AIRWAYS BRITISH GRAND PRIX 2024\n",
      "\tMeeting Name : British Grand Prix\n",
      "\tMeeting Circuit Shortname : Silverstone\n",
      "\t> Suggested search queries : [['qatar', 'airways', 'british', '2024'], ['british'], ['silverstone']]\n",
      "\n",
      "\tMeeting Offname : FORMULA 1 QATAR AIRWAYS AZERBAIJAN GRAND PRIX 2024\n",
      "\tMeeting Name : Azerbaijan Grand Prix\n",
      "\tMeeting Circuit Shortname : Baku\n",
      "\t> Suggested search queries : [['qatar', 'airways', 'azerbaijan', '2024'], ['azerbaijan'], ['baku']]\n",
      "\n",
      "\n"
     ]
    },
    {
     "name": "stdout",
     "output_type": "stream",
     "text": [
      "Not found in 2024\n"
     ]
    },
    {
     "name": "stderr",
     "output_type": "stream",
     "text": [
      "14:42:05 - Selected meeting/session is:\n",
      "\tMeeting Offname : FORMULA 1 STC SAUDI ARABIAN GRAND PRIX 2023\n",
      "\tMeeting Name : Saudi Arabian Grand Prix\n",
      "\tMeeting Circuit Shortname : Jeddah\n",
      "14:42:05 - Got the meeting.\n"
     ]
    },
    {
     "name": "stdout",
     "output_type": "stream",
     "text": [
      "Miami\n"
     ]
    },
    {
     "name": "stderr",
     "output_type": "stream",
     "text": [
      "14:42:06 - The identifier couldn't be found.\n",
      "14:42:06 - LiveF1Error - \n",
      "The searched query 'Miami' not found in the table. Did you mean one of these :\n",
      "\n",
      "\tMeeting Offname : FORMULA 1 PIRELLI GRAN PREMIO D’ITALIA 2024\n",
      "\tMeeting Name : Italian Grand Prix\n",
      "\tMeeting Circuit Shortname : Monza\n",
      "\t> Suggested search queries : [['pirelli', 'gran', 'premio', 'd’italia', '2024'], ['italian'], ['monza']]\n",
      "\n",
      "\tMeeting Offname : FORMULA 1 GRAN PREMIO DE LA CIUDAD DE MÉXICO 2024\n",
      "\tMeeting Name : Mexico City Grand Prix\n",
      "\tMeeting Circuit Shortname : Mexico City\n",
      "\t> Suggested search queries : [['gran', 'premio', 'de', 'la', 'ciudad', 'de', 'méxico', '2024'], ['mexico', 'city'], ['mexico', 'city']]\n",
      "\n",
      "\tMeeting Offname : FORMULA 1 ETIHAD AIRWAYS ABU DHABI GRAND PRIX 2024\n",
      "\tMeeting Name : Abu Dhabi Grand Prix\n",
      "\tMeeting Circuit Shortname : Yas Marina Circuit\n",
      "\t> Suggested search queries : [['etihad', 'airways', 'abu', 'dhabi', '2024'], ['abu', 'dhabi'], ['yas', 'marina', 'circuit']]\n",
      "\n",
      "\n"
     ]
    },
    {
     "name": "stdout",
     "output_type": "stream",
     "text": [
      "Not found in 2024\n"
     ]
    },
    {
     "name": "stderr",
     "output_type": "stream",
     "text": [
      "14:42:09 - Selected meeting/session is:\n",
      "\tMeeting Offname : FORMULA 1 CRYPTO.COM MIAMI GRAND PRIX 2023\n",
      "\tMeeting Name : Miami Grand Prix\n",
      "\tMeeting Circuit Shortname : Miami\n",
      "14:42:09 - Got the meeting.\n"
     ]
    },
    {
     "name": "stdout",
     "output_type": "stream",
     "text": [
      "Emilia-Romagna\n"
     ]
    },
    {
     "name": "stderr",
     "output_type": "stream",
     "text": [
      "14:42:11 - The identifier couldn't be found.\n",
      "14:42:11 - LiveF1Error - \n",
      "The searched query 'Emilia-Romagna' not found in the table. Did you mean one of these :\n",
      "\n",
      "\tMeeting Offname : FORMULA 1 PIRELLI GRAN PREMIO D’ITALIA 2024\n",
      "\tMeeting Name : Italian Grand Prix\n",
      "\tMeeting Circuit Shortname : Monza\n",
      "\t> Suggested search queries : [['pirelli', 'gran', 'premio', 'd’italia', '2024'], ['italian'], ['monza']]\n",
      "\n",
      "\tMeeting Offname : FORMULA 1 GRAN PREMIO DE LA CIUDAD DE MÉXICO 2024\n",
      "\tMeeting Name : Mexico City Grand Prix\n",
      "\tMeeting Circuit Shortname : Mexico City\n",
      "\t> Suggested search queries : [['gran', 'premio', 'de', 'la', 'ciudad', 'de', 'méxico', '2024'], ['mexico', 'city'], ['mexico', 'city']]\n",
      "\n",
      "\tMeeting Offname : FORMULA 1 ROLEX BELGIAN GRAND PRIX 2024\n",
      "\tMeeting Name : Belgian Grand Prix\n",
      "\tMeeting Circuit Shortname : Spa-Francorchamps\n",
      "\t> Suggested search queries : [['rolex', 'belgian', '2024'], ['belgian'], ['spa', 'francorchamps']]\n",
      "\n",
      "\n"
     ]
    },
    {
     "name": "stdout",
     "output_type": "stream",
     "text": [
      "Not found in 2024\n"
     ]
    },
    {
     "name": "stderr",
     "output_type": "stream",
     "text": [
      "14:42:13 - The identifier couldn't be found.\n",
      "14:42:13 - LiveF1Error - \n",
      "The searched query 'Emilia-Romagna' not found in the table. Did you mean one of these :\n",
      "\n",
      "\tMeeting Offname : FORMULA 1 CRYPTO.COM MIAMI GRAND PRIX 2023\n",
      "\tMeeting Name : Miami Grand Prix\n",
      "\tMeeting Circuit Shortname : Miami\n",
      "\t> Suggested search queries : [['crypto', 'com', 'miami', '2023'], ['miami'], ['miami']]\n",
      "\n",
      "\tMeeting Offname : FORMULA 1 PIRELLI GRAN PREMIO D’ITALIA 2023 \n",
      "\tMeeting Name : Italian Grand Prix\n",
      "\tMeeting Circuit Shortname : Monza\n",
      "\t> Suggested search queries : [['pirelli', 'gran', 'premio', 'd’italia', '2023', ''], ['italian'], ['monza']]\n",
      "\n",
      "\tMeeting Offname : FORMULA 1 STC SAUDI ARABIAN GRAND PRIX 2023\n",
      "\tMeeting Name : Saudi Arabian Grand Prix\n",
      "\tMeeting Circuit Shortname : Jeddah\n",
      "\t> Suggested search queries : [['stc', 'saudi', 'arabian', '2023'], ['saudi', 'arabian'], ['jeddah']]\n",
      "\n",
      "\n",
      "14:42:13 - Endpoint not found: https://livetiming.formula1.com/static/2022/Index.json\n",
      "Traceback (most recent call last):\n",
      "  File \"c:\\Users\\EU10698\\GO\\GO\\Projects\\LiveF1\\livef1\\adapters\\livetimingf1_adapter.py\", line 65, in get\n",
      "    response.raise_for_status()\n",
      "  File \"c:\\Users\\EU10698\\venvs\\goktugPy\\Lib\\site-packages\\requests\\models.py\", line 1024, in raise_for_status\n",
      "    raise HTTPError(http_error_msg, response=self)\n",
      "requests.exceptions.HTTPError: 403 Client Error: Forbidden for url: https://livetiming.formula1.com/static/2022/Index.json\n"
     ]
    },
    {
     "name": "stdout",
     "output_type": "stream",
     "text": [
      "Not found in 2023\n"
     ]
    },
    {
     "name": "stderr",
     "output_type": "stream",
     "text": [
      "14:42:13 - InvalidEndpointError - Endpoint not found: 2022/Index.json\n"
     ]
    },
    {
     "name": "stdout",
     "output_type": "stream",
     "text": [
      "Not found in 2022\n"
     ]
    },
    {
     "name": "stderr",
     "output_type": "stream",
     "text": [
      "14:42:16 - Selected meeting/session is:\n",
      "\tMeeting Offname : FORMULA 1 PIRELLI GRAN PREMIO DEL MADE IN ITALY E DELL'EMILIA ROMAGNA 2021\n",
      "\tMeeting Name : Emilia Romagna Grand Prix\n",
      "\tMeeting Circuit Shortname : Imola\n",
      "14:42:16 - Got the meeting.\n"
     ]
    },
    {
     "name": "stdout",
     "output_type": "stream",
     "text": [
      "Monaco\n"
     ]
    },
    {
     "name": "stderr",
     "output_type": "stream",
     "text": [
      "14:42:17 - The identifier couldn't be found.\n",
      "14:42:17 - LiveF1Error - \n",
      "The searched query 'Monaco' not found in the table. Did you mean one of these :\n",
      "\n",
      "\tMeeting Offname : FORMULA 1 PIRELLI GRAN PREMIO D’ITALIA 2024\n",
      "\tMeeting Name : Italian Grand Prix\n",
      "\tMeeting Circuit Shortname : Monza\n",
      "\t> Suggested search queries : [['pirelli', 'gran', 'premio', 'd’italia', '2024'], ['italian'], ['monza']]\n",
      "\n",
      "\tMeeting Offname : FORMULA 1 ARAMCO GRAN PREMIO DE ESPAÑA 2024\n",
      "\tMeeting Name : Spanish Grand Prix\n",
      "\tMeeting Circuit Shortname : Catalunya\n",
      "\t> Suggested search queries : [['aramco', 'gran', 'premio', 'de', 'españa', '2024'], ['spanish'], ['catalunya']]\n",
      "\n",
      "\tMeeting Offname : FORMULA 1 SINGAPORE AIRLINES SINGAPORE GRAND PRIX 2024\n",
      "\tMeeting Name : Singapore Grand Prix\n",
      "\tMeeting Circuit Shortname : Singapore\n",
      "\t> Suggested search queries : [['singapore', 'airlines', 'singapore', '2024'], ['singapore'], ['singapore']]\n",
      "\n",
      "\n"
     ]
    },
    {
     "name": "stdout",
     "output_type": "stream",
     "text": [
      "Not found in 2024\n"
     ]
    },
    {
     "name": "stderr",
     "output_type": "stream",
     "text": [
      "14:42:20 - Selected meeting/session is:\n",
      "\tMeeting Offname : FORMULA 1 GRAND PRIX DE MONACO 2023\n",
      "\tMeeting Name : Monaco Grand Prix\n",
      "\tMeeting Circuit Shortname : Monte Carlo\n",
      "14:42:20 - Got the meeting.\n"
     ]
    },
    {
     "name": "stdout",
     "output_type": "stream",
     "text": [
      "Spain\n"
     ]
    },
    {
     "name": "stderr",
     "output_type": "stream",
     "text": [
      "14:42:21 - The identifier couldn't be found.\n",
      "14:42:21 - LiveF1Error - \n",
      "The searched query 'Spain' not found in the table. Did you mean one of these :\n",
      "\n",
      "\tMeeting Offname : FORMULA 1 ARAMCO GRAN PREMIO DE ESPAÑA 2024\n",
      "\tMeeting Name : Spanish Grand Prix\n",
      "\tMeeting Circuit Shortname : Catalunya\n",
      "\t> Suggested search queries : [['aramco', 'gran', 'premio', 'de', 'españa', '2024'], ['spanish'], ['catalunya']]\n",
      "\n",
      "\tMeeting Offname : FORMULA 1 PIRELLI UNITED STATES GRAND PRIX 2024\n",
      "\tMeeting Name : United States Grand Prix\n",
      "\tMeeting Circuit Shortname : Austin\n",
      "\t> Suggested search queries : [['pirelli', 'united', 'states', '2024'], ['united', 'states'], ['austin']]\n",
      "\n",
      "\tMeeting Offname : FORMULA 1 QATAR AIRWAYS QATAR GRAND PRIX 2024\n",
      "\tMeeting Name : Qatar Grand Prix\n",
      "\tMeeting Circuit Shortname : Lusail\n",
      "\t> Suggested search queries : [['qatar', 'airways', 'qatar', '2024'], ['qatar'], ['lusail']]\n",
      "\n",
      "\n"
     ]
    },
    {
     "name": "stdout",
     "output_type": "stream",
     "text": [
      "Not found in 2024\n"
     ]
    },
    {
     "name": "stderr",
     "output_type": "stream",
     "text": [
      "14:42:24 - The identifier couldn't be found.\n",
      "14:42:24 - LiveF1Error - \n",
      "The searched query 'Spain' not found in the table. Did you mean one of these :\n",
      "\n",
      "\tMeeting Offname : FORMULA 1 AWS GRAN PREMIO DE ESPAÑA 2023\n",
      "\tMeeting Name : Spanish Grand Prix\n",
      "\tMeeting Circuit Shortname : Catalunya\n",
      "\t> Suggested search queries : [['aws', 'gran', 'premio', 'de', 'españa', '2023'], ['spanish'], ['catalunya']]\n",
      "\n",
      "\tMeeting Offname : FORMULA 1 LENOVO UNITED STATES GRAND PRIX 2023\n",
      "\tMeeting Name : United States Grand Prix\n",
      "\tMeeting Circuit Shortname : Austin\n",
      "\t> Suggested search queries : [['lenovo', 'united', 'states', '2023'], ['united', 'states'], ['austin']]\n",
      "\n",
      "\tMeeting Offname : FORMULA 1 GULF AIR BAHRAIN GRAND PRIX 2023\n",
      "\tMeeting Name : Bahrain Grand Prix\n",
      "\tMeeting Circuit Shortname : Sakhir\n",
      "\t> Suggested search queries : [['gulf', 'air', 'bahrain', '2023'], ['bahrain'], ['sakhir']]\n",
      "\n",
      "\n",
      "14:42:24 - Endpoint not found: https://livetiming.formula1.com/static/2022/Index.json\n",
      "Traceback (most recent call last):\n",
      "  File \"c:\\Users\\EU10698\\GO\\GO\\Projects\\LiveF1\\livef1\\adapters\\livetimingf1_adapter.py\", line 65, in get\n",
      "    response.raise_for_status()\n",
      "  File \"c:\\Users\\EU10698\\venvs\\goktugPy\\Lib\\site-packages\\requests\\models.py\", line 1024, in raise_for_status\n",
      "    raise HTTPError(http_error_msg, response=self)\n",
      "requests.exceptions.HTTPError: 403 Client Error: Forbidden for url: https://livetiming.formula1.com/static/2022/Index.json\n"
     ]
    },
    {
     "name": "stdout",
     "output_type": "stream",
     "text": [
      "Not found in 2023\n"
     ]
    },
    {
     "name": "stderr",
     "output_type": "stream",
     "text": [
      "14:42:24 - InvalidEndpointError - Endpoint not found: 2022/Index.json\n"
     ]
    },
    {
     "name": "stdout",
     "output_type": "stream",
     "text": [
      "Not found in 2022\n"
     ]
    },
    {
     "name": "stderr",
     "output_type": "stream",
     "text": [
      "14:42:26 - The identifier couldn't be found.\n",
      "14:42:26 - LiveF1Error - \n",
      "The searched query 'Spain' not found in the table. Did you mean one of these :\n",
      "\n",
      "\tMeeting Offname : FORMULA 1 ARAMCO GRAN PREMIO DE ESPAÑA 2021\n",
      "\tMeeting Name : Spanish Grand Prix\n",
      "\tMeeting Circuit Shortname : Catalunya\n",
      "\t> Suggested search queries : [['aramco', 'gran', 'premio', 'de', 'españa', '2021'], ['spanish'], ['catalunya']]\n",
      "\n",
      "\tMeeting Offname : FORMULA 1 ARAMCO UNITED STATES GRAND PRIX 2021\n",
      "\tMeeting Name : United States Grand Prix\n",
      "\tMeeting Circuit Shortname : Austin\n",
      "\t> Suggested search queries : [['aramco', 'united', 'states', '2021'], ['united', 'states'], ['austin']]\n",
      "\n",
      "\tMeeting Offname : FORMULA 1 GULF AIR BAHRAIN GRAND PRIX 2021\n",
      "\tMeeting Name : Bahrain Grand Prix\n",
      "\tMeeting Circuit Shortname : Sakhir\n",
      "\t> Suggested search queries : [['gulf', 'air', 'bahrain', '2021'], ['bahrain'], ['sakhir']]\n",
      "\n",
      "\n"
     ]
    },
    {
     "name": "stdout",
     "output_type": "stream",
     "text": [
      "Not found in 2021\n"
     ]
    },
    {
     "name": "stderr",
     "output_type": "stream",
     "text": [
      "14:42:28 - The identifier couldn't be found.\n",
      "14:42:28 - LiveF1Error - \n",
      "The searched query 'Spain' not found in the table. Did you mean one of these :\n",
      "\n",
      "\tMeeting Offname : FORMULA 1 ARAMCO GRAN PREMIO DE ESPAÑA 2020\n",
      "\tMeeting Name : Spanish Grand Prix\n",
      "\tMeeting Circuit Shortname : Catalunya\n",
      "\t> Suggested search queries : [['aramco', 'gran', 'premio', 'de', 'españa', '2020'], ['spanish'], ['catalunya']]\n",
      "\n",
      "\tMeeting Offname : FORMULA 1 GULF AIR BAHRAIN GRAND PRIX 2020\n",
      "\tMeeting Name : Bahrain Grand Prix\n",
      "\tMeeting Circuit Shortname : Sakhir\n",
      "\t> Suggested search queries : [['gulf', 'air', 'bahrain', '2020'], ['bahrain'], ['sakhir']]\n",
      "\n",
      "\tMeeting Offname : FORMULA 1 ROLEX SAKHIR GRAND PRIX 2020\n",
      "\tMeeting Name : Sakhir Grand Prix\n",
      "\tMeeting Circuit Shortname : Sakhir Outer Track\n",
      "\t> Suggested search queries : [['rolex', 'sakhir', '2020'], ['sakhir'], ['sakhir', 'outer', 'track']]\n",
      "\n",
      "\n"
     ]
    },
    {
     "name": "stdout",
     "output_type": "stream",
     "text": [
      "Not found in 2020\n"
     ]
    },
    {
     "name": "stderr",
     "output_type": "stream",
     "text": [
      "14:42:30 - The identifier couldn't be found.\n",
      "14:42:30 - LiveF1Error - \n",
      "The searched query 'Spain' not found in the table. Did you mean one of these :\n",
      "\n",
      "\tMeeting Offname : FORMULA 1 EMIRATES GRAN PREMIO DE ESPAÑA 2019\n",
      "\tMeeting Name : Spanish Grand Prix\n",
      "\tMeeting Circuit Shortname : Catalunya\n",
      "\t> Suggested search queries : [['emirates', 'gran', 'premio', 'de', 'españa', '2019'], ['spanish'], ['catalunya']]\n",
      "\n",
      "\tMeeting Offname : FORMULA 1 UNITED STATES GRAND PRIX 2019\n",
      "\tMeeting Name : United States Grand Prix\n",
      "\tMeeting Circuit Shortname : Austin\n",
      "\t> Suggested search queries : [['united', 'states', '2019'], ['united', 'states'], ['austin']]\n",
      "\n",
      "\tMeeting Offname : FORMULA 1 GULF AIR BAHRAIN GRAND PRIX 2019\n",
      "\tMeeting Name : Bahrain Grand Prix\n",
      "\tMeeting Circuit Shortname : Sakhir\n",
      "\t> Suggested search queries : [['gulf', 'air', 'bahrain', '2019'], ['bahrain'], ['sakhir']]\n",
      "\n",
      "\n"
     ]
    },
    {
     "name": "stdout",
     "output_type": "stream",
     "text": [
      "Not found in 2019\n"
     ]
    },
    {
     "name": "stderr",
     "output_type": "stream",
     "text": [
      "14:42:32 - The identifier couldn't be found.\n",
      "14:42:32 - LiveF1Error - \n",
      "The searched query 'Spain' not found in the table. Did you mean one of these :\n",
      "\n",
      "\tMeeting Offname : FORMULA 1 GRAN PREMIO DE ESPAÑA EMIRATES 2018\n",
      "\tMeeting Name : Spanish Grand Prix\n",
      "\tMeeting Circuit Shortname : Catalunya\n",
      "\t> Suggested search queries : [['gran', 'premio', 'de', 'españa', 'emirates', '2018'], ['spanish'], ['catalunya']]\n",
      "\n",
      "\tMeeting Offname : FORMULA 1 PIRELLI 2018 UNITED STATES GRAND PRIX\n",
      "\tMeeting Name : United States Grand Prix\n",
      "\tMeeting Circuit Shortname : Austin\n",
      "\t> Suggested search queries : [['pirelli', '2018', 'united', 'states'], ['united', 'states'], ['austin']]\n",
      "\n",
      "\tMeeting Offname : FORMULA 1 2018 GULF AIR BAHRAIN GRAND PRIX\n",
      "\tMeeting Name : Bahrain Grand Prix\n",
      "\tMeeting Circuit Shortname : Sakhir\n",
      "\t> Suggested search queries : [['2018', 'gulf', 'air', 'bahrain'], ['bahrain'], ['sakhir']]\n",
      "\n",
      "\n"
     ]
    },
    {
     "name": "stdout",
     "output_type": "stream",
     "text": [
      "Not found in 2018\n",
      "Canada\n"
     ]
    },
    {
     "name": "stderr",
     "output_type": "stream",
     "text": [
      "14:42:34 - The identifier couldn't be found.\n",
      "14:42:34 - LiveF1Error - \n",
      "The searched query 'Canada' not found in the table. Did you mean one of these :\n",
      "\n",
      "\tMeeting Offname : FORMULA 1 ARAMCO GRAN PREMIO DE ESPAÑA 2024\n",
      "\tMeeting Name : Spanish Grand Prix\n",
      "\tMeeting Circuit Shortname : Catalunya\n",
      "\t> Suggested search queries : [['aramco', 'gran', 'premio', 'de', 'españa', '2024'], ['spanish'], ['catalunya']]\n",
      "\n",
      "\tMeeting Offname : FORMULA 1 HEINEKEN DUTCH GRAND PRIX 2024\n",
      "\tMeeting Name : Dutch Grand Prix\n",
      "\tMeeting Circuit Shortname : Zandvoort\n",
      "\t> Suggested search queries : [['heineken', 'dutch', '2024'], ['dutch'], ['zandvoort']]\n",
      "\n",
      "\tMeeting Offname : FORMULA 1 GRAN PREMIO DE LA CIUDAD DE MÉXICO 2024\n",
      "\tMeeting Name : Mexico City Grand Prix\n",
      "\tMeeting Circuit Shortname : Mexico City\n",
      "\t> Suggested search queries : [['gran', 'premio', 'de', 'la', 'ciudad', 'de', 'méxico', '2024'], ['mexico', 'city'], ['mexico', 'city']]\n",
      "\n",
      "\n"
     ]
    },
    {
     "name": "stdout",
     "output_type": "stream",
     "text": [
      "Not found in 2024\n"
     ]
    },
    {
     "name": "stderr",
     "output_type": "stream",
     "text": [
      "14:42:36 - Selected meeting/session is:\n",
      "\tMeeting Offname : FORMULA 1 PIRELLI GRAND PRIX DU CANADA 2023\n",
      "\tMeeting Name : Canadian Grand Prix\n",
      "\tMeeting Circuit Shortname : Montreal\n",
      "14:42:36 - Got the meeting.\n"
     ]
    },
    {
     "name": "stdout",
     "output_type": "stream",
     "text": [
      "Austria\n"
     ]
    },
    {
     "name": "stderr",
     "output_type": "stream",
     "text": [
      "14:42:38 - The identifier couldn't be found.\n",
      "14:42:38 - The identifier is very close to 'Austrian Grand Prix' at column 'MEETING NAME'\n",
      "14:42:38 - Selected meeting/session is:\n",
      "\tMeeting Offname : FORMULA 1 QATAR AIRWAYS AUSTRIAN GRAND PRIX 2024\n",
      "\tMeeting Name : Austrian Grand Prix\n",
      "\tMeeting Circuit Shortname : Spielberg\n",
      "14:42:38 - Got the meeting.\n"
     ]
    },
    {
     "name": "stdout",
     "output_type": "stream",
     "text": [
      "Great Britain\n"
     ]
    },
    {
     "name": "stderr",
     "output_type": "stream",
     "text": [
      "14:42:40 - The identifier couldn't be found.\n",
      "14:42:40 - LiveF1Error - \n",
      "The searched query 'Great Britain' not found in the table. Did you mean one of these :\n",
      "\n",
      "\tMeeting Offname : FORMULA 1 QATAR AIRWAYS AUSTRIAN GRAND PRIX 2024\n",
      "\tMeeting Name : Austrian Grand Prix\n",
      "\tMeeting Circuit Shortname : Spielberg\n",
      "\t> Suggested search queries : [['qatar', 'airways', 'austrian', '2024'], ['austrian'], ['spielberg']]\n",
      "\n",
      "\tMeeting Offname : FORMULA 1 HUNGARIAN GRAND PRIX 2024\n",
      "\tMeeting Name : Hungarian Grand Prix\n",
      "\tMeeting Circuit Shortname : Hungaroring\n",
      "\t> Suggested search queries : [['hungarian', '2024'], ['hungarian'], ['hungaroring']]\n",
      "\n",
      "\tMeeting Offname : FORMULA 1 QATAR AIRWAYS AZERBAIJAN GRAND PRIX 2024\n",
      "\tMeeting Name : Azerbaijan Grand Prix\n",
      "\tMeeting Circuit Shortname : Baku\n",
      "\t> Suggested search queries : [['qatar', 'airways', 'azerbaijan', '2024'], ['azerbaijan'], ['baku']]\n",
      "\n",
      "\n"
     ]
    },
    {
     "name": "stdout",
     "output_type": "stream",
     "text": [
      "Not found in 2024\n"
     ]
    },
    {
     "name": "stderr",
     "output_type": "stream",
     "text": [
      "14:42:42 - The identifier couldn't be found.\n",
      "14:42:42 - LiveF1Error - \n",
      "The searched query 'Great Britain' not found in the table. Did you mean one of these :\n",
      "\n",
      "\tMeeting Offname : FORMULA 1 ROLEX GROSSER PREIS VON ÖSTERREICH 2023\n",
      "\tMeeting Name : Austrian Grand Prix\n",
      "\tMeeting Circuit Shortname : Spielberg\n",
      "\t> Suggested search queries : [['rolex', 'grosser', 'preis', 'von', 'österreich', '2023'], ['austrian'], ['spielberg']]\n",
      "\n",
      "\tMeeting Offname : FORMULA 1 STC SAUDI ARABIAN GRAND PRIX 2023\n",
      "\tMeeting Name : Saudi Arabian Grand Prix\n",
      "\tMeeting Circuit Shortname : Jeddah\n",
      "\t> Suggested search queries : [['stc', 'saudi', 'arabian', '2023'], ['saudi', 'arabian'], ['jeddah']]\n",
      "\n",
      "\tMeeting Offname : FORMULA 1 QATAR AIRWAYS HUNGARIAN GRAND PRIX 2023\n",
      "\tMeeting Name : Hungarian Grand Prix\n",
      "\tMeeting Circuit Shortname : Hungaroring\n",
      "\t> Suggested search queries : [['qatar', 'airways', 'hungarian', '2023'], ['hungarian'], ['hungaroring']]\n",
      "\n",
      "\n",
      "14:42:42 - Endpoint not found: https://livetiming.formula1.com/static/2022/Index.json\n",
      "Traceback (most recent call last):\n",
      "  File \"c:\\Users\\EU10698\\GO\\GO\\Projects\\LiveF1\\livef1\\adapters\\livetimingf1_adapter.py\", line 65, in get\n",
      "    response.raise_for_status()\n",
      "  File \"c:\\Users\\EU10698\\venvs\\goktugPy\\Lib\\site-packages\\requests\\models.py\", line 1024, in raise_for_status\n",
      "    raise HTTPError(http_error_msg, response=self)\n",
      "requests.exceptions.HTTPError: 403 Client Error: Forbidden for url: https://livetiming.formula1.com/static/2022/Index.json\n",
      "14:42:42 - InvalidEndpointError - Endpoint not found: 2022/Index.json\n"
     ]
    },
    {
     "name": "stdout",
     "output_type": "stream",
     "text": [
      "Not found in 2023\n",
      "Not found in 2022\n"
     ]
    },
    {
     "name": "stderr",
     "output_type": "stream",
     "text": [
      "14:42:44 - The identifier couldn't be found.\n",
      "14:42:45 - LiveF1Error - \n",
      "The searched query 'Great Britain' not found in the table. Did you mean one of these :\n",
      "\n",
      "\tMeeting Offname : FORMULA 1 BWT GROSSER PREIS VON ÖSTERREICH 2021\n",
      "\tMeeting Name : Austrian Grand Prix\n",
      "\tMeeting Circuit Shortname : Spielberg\n",
      "\t> Suggested search queries : [['bwt', 'grosser', 'preis', 'von', 'österreich', '2021'], ['austrian'], ['spielberg']]\n",
      "\n",
      "\tMeeting Offname : FORMULA 1 STC SAUDI ARABIAN GRAND PRIX 2021\n",
      "\tMeeting Name : Saudi Arabian Grand Prix\n",
      "\tMeeting Circuit Shortname : Jeddah\n",
      "\t> Suggested search queries : [['stc', 'saudi', 'arabian', '2021'], ['saudi', 'arabian'], ['jeddah']]\n",
      "\n",
      "\tMeeting Offname : FORMULA 1 ROLEX MAGYAR NAGYDÍJ 2021\n",
      "\tMeeting Name : Hungarian Grand Prix\n",
      "\tMeeting Circuit Shortname : Hungaroring\n",
      "\t> Suggested search queries : [['rolex', 'magyar', 'nagydíj', '2021'], ['hungarian'], ['hungaroring']]\n",
      "\n",
      "\n"
     ]
    },
    {
     "name": "stdout",
     "output_type": "stream",
     "text": [
      "Not found in 2021\n"
     ]
    },
    {
     "name": "stderr",
     "output_type": "stream",
     "text": [
      "14:42:46 - The identifier couldn't be found.\n",
      "14:42:46 - LiveF1Error - \n",
      "The searched query 'Great Britain' not found in the table. Did you mean one of these :\n",
      "\n",
      "\tMeeting Offname : FORMULA 1 ROLEX GROSSER PREIS VON ÖSTERREICH 2020\n",
      "\tMeeting Name : Austrian Grand Prix\n",
      "\tMeeting Circuit Shortname : Spielberg\n",
      "\t> Suggested search queries : [['rolex', 'grosser', 'preis', 'von', 'österreich', '2020'], ['austrian'], ['spielberg']]\n",
      "\n",
      "\tMeeting Offname : FORMULA 1 ARAMCO MAGYAR NAGYDÍJ 2020\n",
      "\tMeeting Name : Hungarian Grand Prix\n",
      "\tMeeting Circuit Shortname : Hungaroring\n",
      "\t> Suggested search queries : [['aramco', 'magyar', 'nagydíj', '2020'], ['hungarian'], ['hungaroring']]\n",
      "\n",
      "\tMeeting Offname : FORMULA 1 GULF AIR BAHRAIN GRAND PRIX 2020\n",
      "\tMeeting Name : Bahrain Grand Prix\n",
      "\tMeeting Circuit Shortname : Sakhir\n",
      "\t> Suggested search queries : [['gulf', 'air', 'bahrain', '2020'], ['bahrain'], ['sakhir']]\n",
      "\n",
      "\n"
     ]
    },
    {
     "name": "stdout",
     "output_type": "stream",
     "text": [
      "Not found in 2020\n"
     ]
    },
    {
     "name": "stderr",
     "output_type": "stream",
     "text": [
      "14:42:49 - The identifier couldn't be found.\n",
      "14:42:49 - LiveF1Error - \n",
      "The searched query 'Great Britain' not found in the table. Did you mean one of these :\n",
      "\n",
      "\tMeeting Offname : FORMULA 1 MYWORLD GROSSER PREIS VON ÖSTERREICH 2019\n",
      "\tMeeting Name : Austrian Grand Prix\n",
      "\tMeeting Circuit Shortname : Spielberg\n",
      "\t> Suggested search queries : [['myworld', 'grosser', 'preis', 'von', 'österreich', '2019'], ['austrian'], ['spielberg']]\n",
      "\n",
      "\tMeeting Offname : FORMULA 1 MAGYAR NAGYDÍJ 2019\n",
      "\tMeeting Name : Hungarian Grand Prix\n",
      "\tMeeting Circuit Shortname : Hungaroring\n",
      "\t> Suggested search queries : [['magyar', 'nagydíj', '2019'], ['hungarian'], ['hungaroring']]\n",
      "\n",
      "\tMeeting Offname : FORMULA 1 HEINEKEN GRANDE PRÊMIO DO BRASIL 2019\n",
      "\tMeeting Name : Brazilian Grand Prix\n",
      "\tMeeting Circuit Shortname : Interlagos\n",
      "\t> Suggested search queries : [['heineken', 'grande', 'prêmio', 'do', 'brasil', '2019'], ['brazilian'], ['interlagos']]\n",
      "\n",
      "\n"
     ]
    },
    {
     "name": "stdout",
     "output_type": "stream",
     "text": [
      "Not found in 2019\n"
     ]
    },
    {
     "name": "stderr",
     "output_type": "stream",
     "text": [
      "14:42:51 - The identifier couldn't be found.\n",
      "14:42:51 - LiveF1Error - \n",
      "The searched query 'Great Britain' not found in the table. Did you mean one of these :\n",
      "\n",
      "\tMeeting Offname : FORMULA 1 EYETIME GROSSER PREIS VON ÖSTERREICH 2018\n",
      "\tMeeting Name : Austrian Grand Prix\n",
      "\tMeeting Circuit Shortname : Spielberg\n",
      "\t> Suggested search queries : [['eyetime', 'grosser', 'preis', 'von', 'österreich', '2018'], ['austrian'], ['spielberg']]\n",
      "\n",
      "\tMeeting Offname : FORMULA 1 ROLEX MAGYAR NAGYDÍJ 2018\n",
      "\tMeeting Name : Hungarian Grand Prix\n",
      "\tMeeting Circuit Shortname : Hungaroring\n",
      "\t> Suggested search queries : [['rolex', 'magyar', 'nagydíj', '2018'], ['hungarian'], ['hungaroring']]\n",
      "\n",
      "\tMeeting Offname : FORMULA 1 GRANDE PRÊMIO HEINEKEN DO BRASIL 2018\n",
      "\tMeeting Name : Brazilian Grand Prix\n",
      "\tMeeting Circuit Shortname : Interlagos\n",
      "\t> Suggested search queries : [['grande', 'prêmio', 'heineken', 'do', 'brasil', '2018'], ['brazilian'], ['interlagos']]\n",
      "\n",
      "\n"
     ]
    },
    {
     "name": "stdout",
     "output_type": "stream",
     "text": [
      "Not found in 2018\n",
      "Belgium\n"
     ]
    },
    {
     "name": "stderr",
     "output_type": "stream",
     "text": [
      "14:42:53 - The identifier couldn't be found.\n",
      "14:42:53 - LiveF1Error - \n",
      "The searched query 'Belgium' not found in the table. Did you mean one of these :\n",
      "\n",
      "\tMeeting Offname : FORMULA 1 ROLEX BELGIAN GRAND PRIX 2024\n",
      "\tMeeting Name : Belgian Grand Prix\n",
      "\tMeeting Circuit Shortname : Spa-Francorchamps\n",
      "\t> Suggested search queries : [['rolex', 'belgian', '2024'], ['belgian'], ['spa', 'francorchamps']]\n",
      "\n",
      "\tMeeting Offname : FORMULA 1 QATAR AIRWAYS AZERBAIJAN GRAND PRIX 2024\n",
      "\tMeeting Name : Azerbaijan Grand Prix\n",
      "\tMeeting Circuit Shortname : Baku\n",
      "\t> Suggested search queries : [['qatar', 'airways', 'azerbaijan', '2024'], ['azerbaijan'], ['baku']]\n",
      "\n",
      "\tMeeting Offname : FORMULA 1 GRAN PREMIO DE LA CIUDAD DE MÉXICO 2024\n",
      "\tMeeting Name : Mexico City Grand Prix\n",
      "\tMeeting Circuit Shortname : Mexico City\n",
      "\t> Suggested search queries : [['gran', 'premio', 'de', 'la', 'ciudad', 'de', 'méxico', '2024'], ['mexico', 'city'], ['mexico', 'city']]\n",
      "\n",
      "\n"
     ]
    },
    {
     "name": "stdout",
     "output_type": "stream",
     "text": [
      "Not found in 2024\n"
     ]
    },
    {
     "name": "stderr",
     "output_type": "stream",
     "text": [
      "14:42:55 - The identifier couldn't be found.\n",
      "14:42:55 - LiveF1Error - \n",
      "The searched query 'Belgium' not found in the table. Did you mean one of these :\n",
      "\n",
      "\tMeeting Offname : FORMULA 1 MSC CRUISES BELGIAN GRAND PRIX 2023\n",
      "\tMeeting Name : Belgian Grand Prix\n",
      "\tMeeting Circuit Shortname : Spa-Francorchamps\n",
      "\t> Suggested search queries : [['msc', 'cruises', 'belgian', '2023'], ['belgian'], ['spa', 'francorchamps']]\n",
      "\n",
      "\tMeeting Offname : FORMULA 1 AZERBAIJAN GRAND PRIX 2023\n",
      "\tMeeting Name : Azerbaijan Grand Prix\n",
      "\tMeeting Circuit Shortname : Baku\n",
      "\t> Suggested search queries : [['azerbaijan', '2023'], ['azerbaijan'], ['baku']]\n",
      "\n",
      "\tMeeting Offname : FORMULA 1 ROLEX AUSTRALIAN GRAND PRIX 2023\n",
      "\tMeeting Name : Australian Grand Prix\n",
      "\tMeeting Circuit Shortname : Melbourne\n",
      "\t> Suggested search queries : [['rolex', 'australian', '2023'], ['australian'], ['melbourne']]\n",
      "\n",
      "\n",
      "14:42:55 - Endpoint not found: https://livetiming.formula1.com/static/2022/Index.json\n",
      "Traceback (most recent call last):\n",
      "  File \"c:\\Users\\EU10698\\GO\\GO\\Projects\\LiveF1\\livef1\\adapters\\livetimingf1_adapter.py\", line 65, in get\n",
      "    response.raise_for_status()\n",
      "  File \"c:\\Users\\EU10698\\venvs\\goktugPy\\Lib\\site-packages\\requests\\models.py\", line 1024, in raise_for_status\n",
      "    raise HTTPError(http_error_msg, response=self)\n",
      "requests.exceptions.HTTPError: 403 Client Error: Forbidden for url: https://livetiming.formula1.com/static/2022/Index.json\n",
      "14:42:55 - InvalidEndpointError - Endpoint not found: 2022/Index.json\n"
     ]
    },
    {
     "name": "stdout",
     "output_type": "stream",
     "text": [
      "Not found in 2023\n",
      "Not found in 2022\n"
     ]
    },
    {
     "name": "stderr",
     "output_type": "stream",
     "text": [
      "14:42:57 - The identifier couldn't be found.\n",
      "14:42:57 - LiveF1Error - \n",
      "The searched query 'Belgium' not found in the table. Did you mean one of these :\n",
      "\n",
      "\tMeeting Offname : FORMULA 1 ROLEX BELGIAN GRAND PRIX 2021\n",
      "\tMeeting Name : Belgian Grand Prix\n",
      "\tMeeting Circuit Shortname : Spa-Francorchamps\n",
      "\t> Suggested search queries : [['rolex', 'belgian', '2021'], ['belgian'], ['spa', 'francorchamps']]\n",
      "\n",
      "\tMeeting Offname : FORMULA 1 AZERBAIJAN GRAND PRIX 2021\n",
      "\tMeeting Name : Azerbaijan Grand Prix\n",
      "\tMeeting Circuit Shortname : Baku\n",
      "\t> Suggested search queries : [['azerbaijan', '2021'], ['azerbaijan'], ['baku']]\n",
      "\n",
      "\tMeeting Offname : FORMULA 1 GRAN PREMIO DE LA CIUDAD DE MÉXICO 2021\n",
      "\tMeeting Name : Mexico City Grand Prix\n",
      "\tMeeting Circuit Shortname : Mexico City\n",
      "\t> Suggested search queries : [['gran', 'premio', 'de', 'la', 'ciudad', 'de', 'méxico', '2021'], ['mexico', 'city'], ['mexico', 'city']]\n",
      "\n",
      "\n"
     ]
    },
    {
     "name": "stdout",
     "output_type": "stream",
     "text": [
      "Not found in 2021\n"
     ]
    },
    {
     "name": "stderr",
     "output_type": "stream",
     "text": [
      "14:42:59 - The identifier couldn't be found.\n",
      "14:42:59 - LiveF1Error - \n",
      "The searched query 'Belgium' not found in the table. Did you mean one of these :\n",
      "\n",
      "\tMeeting Offname : FORMULA 1 ROLEX BELGIAN GRAND PRIX 2020\n",
      "\tMeeting Name : Belgian Grand Prix\n",
      "\tMeeting Circuit Shortname : Spa-Francorchamps\n",
      "\t> Suggested search queries : [['rolex', 'belgian', '2020'], ['belgian'], ['spa', 'francorchamps']]\n",
      "\n",
      "\tMeeting Offname : FORMULA 1 ARAMCO GROSSER PREIS DER EIFEL 2020\n",
      "\tMeeting Name : Eifel Grand Prix\n",
      "\tMeeting Circuit Shortname : Nürburgring\n",
      "\t> Suggested search queries : [['aramco', 'grosser', 'preis', 'der', 'eifel', '2020'], ['eifel'], ['nürburgring']]\n",
      "\n",
      "\tMeeting Offname : FORMULA 1 EMIRATES GRAN PREMIO DELL'EMILIA ROMAGNA 2020\n",
      "\tMeeting Name : Emilia Romagna Grand Prix\n",
      "\tMeeting Circuit Shortname : Imola\n",
      "\t> Suggested search queries : [['emirates', 'gran', 'premio', 'dell', 'emilia', 'romagna', '2020'], ['emilia', 'romagna'], ['imola']]\n",
      "\n",
      "\n"
     ]
    },
    {
     "name": "stdout",
     "output_type": "stream",
     "text": [
      "Not found in 2020\n"
     ]
    },
    {
     "name": "stderr",
     "output_type": "stream",
     "text": [
      "14:43:02 - The identifier couldn't be found.\n",
      "14:43:02 - LiveF1Error - \n",
      "The searched query 'Belgium' not found in the table. Did you mean one of these :\n",
      "\n",
      "\tMeeting Offname : FORMULA 1 JOHNNIE WALKER BELGIAN GRAND PRIX 2019\n",
      "\tMeeting Name : Belgian Grand Prix\n",
      "\tMeeting Circuit Shortname : Spa-Francorchamps\n",
      "\t> Suggested search queries : [['johnnie', 'walker', 'belgian', '2019'], ['belgian'], ['spa', 'francorchamps']]\n",
      "\n",
      "\tMeeting Offname : FORMULA 1 AZERBAIJAN GRAND PRIX 2019\n",
      "\tMeeting Name : Azerbaijan Grand Prix\n",
      "\tMeeting Circuit Shortname : Baku\n",
      "\t> Suggested search queries : [['azerbaijan', '2019'], ['azerbaijan'], ['baku']]\n",
      "\n",
      "\tMeeting Offname : FORMULA 1 ROLEX AUSTRALIAN GRAND PRIX 2019\n",
      "\tMeeting Name : Australian Grand Prix\n",
      "\tMeeting Circuit Shortname : Melbourne\n",
      "\t> Suggested search queries : [['rolex', 'australian', '2019'], ['australian'], ['melbourne']]\n",
      "\n",
      "\n"
     ]
    },
    {
     "name": "stdout",
     "output_type": "stream",
     "text": [
      "Not found in 2019\n"
     ]
    },
    {
     "name": "stderr",
     "output_type": "stream",
     "text": [
      "14:43:04 - The identifier couldn't be found.\n",
      "14:43:04 - LiveF1Error - \n",
      "The searched query 'Belgium' not found in the table. Did you mean one of these :\n",
      "\n",
      "\tMeeting Offname : FORMULA 1 2018 JOHNNIE WALKER BELGIAN GRAND PRIX\n",
      "\tMeeting Name : Belgian Grand Prix\n",
      "\tMeeting Circuit Shortname : Spa-Francorchamps\n",
      "\t> Suggested search queries : [['2018', 'johnnie', 'walker', 'belgian'], ['belgian'], ['spa', 'francorchamps']]\n",
      "\n",
      "\tMeeting Offname : FORMULA 1 2018 AZERBAIJAN GRAND PRIX\n",
      "\tMeeting Name : Azerbaijan Grand Prix\n",
      "\tMeeting Circuit Shortname : Baku\n",
      "\t> Suggested search queries : [['2018', 'azerbaijan'], ['azerbaijan'], ['baku']]\n",
      "\n",
      "\tMeeting Offname : FORMULA 1 EMIRATES GROSSER PREIS VON DEUTSCHLAND 2018\n",
      "\tMeeting Name : German Grand Prix\n",
      "\tMeeting Circuit Shortname : Hockenheim\n",
      "\t> Suggested search queries : [['emirates', 'grosser', 'preis', 'von', 'deutschland', '2018'], ['german'], ['hockenheim']]\n",
      "\n",
      "\n"
     ]
    },
    {
     "name": "stdout",
     "output_type": "stream",
     "text": [
      "Not found in 2018\n",
      "Hungary\n"
     ]
    },
    {
     "name": "stderr",
     "output_type": "stream",
     "text": [
      "14:43:05 - The identifier couldn't be found.\n",
      "14:43:05 - The identifier is very close to 'Hungarian Grand Prix' at column 'MEETING NAME'\n",
      "14:43:05 - Selected meeting/session is:\n",
      "\tMeeting Offname : FORMULA 1 QATAR AIRWAYS BRITISH GRAND PRIX 2024\n",
      "\tMeeting Name : British Grand Prix\n",
      "\tMeeting Circuit Shortname : Silverstone\n",
      "14:43:05 - Got the meeting.\n"
     ]
    },
    {
     "name": "stdout",
     "output_type": "stream",
     "text": [
      "Netherlands\n"
     ]
    },
    {
     "name": "stderr",
     "output_type": "stream",
     "text": [
      "14:43:07 - The identifier couldn't be found.\n",
      "14:43:07 - LiveF1Error - \n",
      "The searched query 'Netherlands' not found in the table. Did you mean one of these :\n",
      "\n",
      "\tMeeting Offname : FORMULA 1 LENOVO GRANDE PRÊMIO DE SÃO PAULO 2024\n",
      "\tMeeting Name : São Paulo Grand Prix\n",
      "\tMeeting Circuit Shortname : Interlagos\n",
      "\t> Suggested search queries : [['lenovo', 'grande', 'prêmio', 'de', 'são', 'paulo', '2024'], ['são', 'paulo'], ['interlagos']]\n",
      "\n",
      "\tMeeting Offname : FORMULA 1 ROLEX BELGIAN GRAND PRIX 2024\n",
      "\tMeeting Name : Belgian Grand Prix\n",
      "\tMeeting Circuit Shortname : Spa-Francorchamps\n",
      "\t> Suggested search queries : [['rolex', 'belgian', '2024'], ['belgian'], ['spa', 'francorchamps']]\n",
      "\n",
      "\tMeeting Offname : FORMULA 1 PIRELLI GRAN PREMIO D’ITALIA 2024\n",
      "\tMeeting Name : Italian Grand Prix\n",
      "\tMeeting Circuit Shortname : Monza\n",
      "\t> Suggested search queries : [['pirelli', 'gran', 'premio', 'd’italia', '2024'], ['italian'], ['monza']]\n",
      "\n",
      "\n"
     ]
    },
    {
     "name": "stdout",
     "output_type": "stream",
     "text": [
      "Not found in 2024\n"
     ]
    },
    {
     "name": "stderr",
     "output_type": "stream",
     "text": [
      "14:43:10 - The identifier couldn't be found.\n",
      "14:43:10 - LiveF1Error - \n",
      "The searched query 'Netherlands' not found in the table. Did you mean one of these :\n",
      "\n",
      "\tMeeting Offname : FORMULA 1 ROLEX GRANDE PRÊMIO DE SÃO PAULO 2023\n",
      "\tMeeting Name : São Paulo Grand Prix\n",
      "\tMeeting Circuit Shortname : Interlagos\n",
      "\t> Suggested search queries : [['rolex', 'grande', 'prêmio', 'de', 'são', 'paulo', '2023'], ['são', 'paulo'], ['interlagos']]\n",
      "\n",
      "\tMeeting Offname : FORMULA 1 PIRELLI GRAND PRIX DU CANADA 2023\n",
      "\tMeeting Name : Canadian Grand Prix\n",
      "\tMeeting Circuit Shortname : Montreal\n",
      "\t> Suggested search queries : [['pirelli', 'du', 'canada', '2023'], ['canadian'], ['montreal']]\n",
      "\n",
      "\tMeeting Offname : FORMULA 1 GULF AIR BAHRAIN GRAND PRIX 2023\n",
      "\tMeeting Name : Bahrain Grand Prix\n",
      "\tMeeting Circuit Shortname : Sakhir\n",
      "\t> Suggested search queries : [['gulf', 'air', 'bahrain', '2023'], ['bahrain'], ['sakhir']]\n",
      "\n",
      "\n",
      "14:43:10 - Endpoint not found: https://livetiming.formula1.com/static/2022/Index.json\n",
      "Traceback (most recent call last):\n",
      "  File \"c:\\Users\\EU10698\\GO\\GO\\Projects\\LiveF1\\livef1\\adapters\\livetimingf1_adapter.py\", line 65, in get\n",
      "    response.raise_for_status()\n",
      "  File \"c:\\Users\\EU10698\\venvs\\goktugPy\\Lib\\site-packages\\requests\\models.py\", line 1024, in raise_for_status\n",
      "    raise HTTPError(http_error_msg, response=self)\n",
      "requests.exceptions.HTTPError: 403 Client Error: Forbidden for url: https://livetiming.formula1.com/static/2022/Index.json\n",
      "14:43:10 - InvalidEndpointError - Endpoint not found: 2022/Index.json\n"
     ]
    },
    {
     "name": "stdout",
     "output_type": "stream",
     "text": [
      "Not found in 2023\n",
      "Not found in 2022\n"
     ]
    },
    {
     "name": "stderr",
     "output_type": "stream",
     "text": [
      "14:43:12 - The identifier couldn't be found.\n",
      "14:43:12 - LiveF1Error - \n",
      "The searched query 'Netherlands' not found in the table. Did you mean one of these :\n",
      "\n",
      "\tMeeting Offname : FORMULA 1 HEINEKEN GRANDE PRÊMIO DE SÃO PAULO 2021\n",
      "\tMeeting Name : São Paulo Grand Prix\n",
      "\tMeeting Circuit Shortname : Interlagos\n",
      "\t> Suggested search queries : [['heineken', 'grande', 'prêmio', 'de', 'são', 'paulo', '2021'], ['são', 'paulo'], ['interlagos']]\n",
      "\n",
      "\tMeeting Offname : FORMULA 1 GULF AIR BAHRAIN GRAND PRIX 2021\n",
      "\tMeeting Name : Bahrain Grand Prix\n",
      "\tMeeting Circuit Shortname : Sakhir\n",
      "\t> Suggested search queries : [['gulf', 'air', 'bahrain', '2021'], ['bahrain'], ['sakhir']]\n",
      "\n",
      "\tMeeting Offname : FORMULA 1 BWT GROSSER PREIS DER STEIERMARK 2021\n",
      "\tMeeting Name : Styrian Grand Prix\n",
      "\tMeeting Circuit Shortname : Spielberg\n",
      "\t> Suggested search queries : [['bwt', 'grosser', 'preis', 'der', 'steiermark', '2021'], ['styrian'], ['spielberg']]\n",
      "\n",
      "\n"
     ]
    },
    {
     "name": "stdout",
     "output_type": "stream",
     "text": [
      "Not found in 2021\n"
     ]
    },
    {
     "name": "stderr",
     "output_type": "stream",
     "text": [
      "14:43:14 - The identifier couldn't be found.\n",
      "14:43:14 - LiveF1Error - \n",
      "The searched query 'Netherlands' not found in the table. Did you mean one of these :\n",
      "\n",
      "\tMeeting Offname : FORMULA 1 PIRELLI GROSSER PREIS DER STEIERMARK 2020\n",
      "\tMeeting Name : Styrian Grand Prix\n",
      "\tMeeting Circuit Shortname : Spielberg\n",
      "\t> Suggested search queries : [['pirelli', 'grosser', 'preis', 'der', 'steiermark', '2020'], ['styrian'], ['spielberg']]\n",
      "\n",
      "\tMeeting Offname : FORMULA 1 ROLEX BELGIAN GRAND PRIX 2020\n",
      "\tMeeting Name : Belgian Grand Prix\n",
      "\tMeeting Circuit Shortname : Spa-Francorchamps\n",
      "\t> Suggested search queries : [['rolex', 'belgian', '2020'], ['belgian'], ['spa', 'francorchamps']]\n",
      "\n",
      "\tMeeting Offname : FORMULA 1 GRAN PREMIO HEINEKEN D’ITALIA 2020\n",
      "\tMeeting Name : Italian Grand Prix\n",
      "\tMeeting Circuit Shortname : Monza\n",
      "\t> Suggested search queries : [['gran', 'premio', 'heineken', 'd’italia', '2020'], ['italian'], ['monza']]\n",
      "\n",
      "\n"
     ]
    },
    {
     "name": "stdout",
     "output_type": "stream",
     "text": [
      "Not found in 2020\n"
     ]
    },
    {
     "name": "stderr",
     "output_type": "stream",
     "text": [
      "14:43:16 - The identifier couldn't be found.\n",
      "14:43:16 - LiveF1Error - \n",
      "The searched query 'Netherlands' not found in the table. Did you mean one of these :\n",
      "\n",
      "\tMeeting Offname : FORMULA 1 HEINEKEN GRANDE PRÊMIO DO BRASIL 2019\n",
      "\tMeeting Name : Brazilian Grand Prix\n",
      "\tMeeting Circuit Shortname : Interlagos\n",
      "\t> Suggested search queries : [['heineken', 'grande', 'prêmio', 'do', 'brasil', '2019'], ['brazilian'], ['interlagos']]\n",
      "\n",
      "\tMeeting Offname : FORMULA 1 MERCEDES-BENZ GROSSER PREIS VON DEUTSCHLAND 2019\n",
      "\tMeeting Name : German Grand Prix\n",
      "\tMeeting Circuit Shortname : Hockenheim\n",
      "\t> Suggested search queries : [['mercedes', 'benz', 'grosser', 'preis', 'von', 'deutschland', '2019'], ['german'], ['hockenheim']]\n",
      "\n",
      "\tMeeting Offname : FORMULA 1 PIRELLI GRAND PRIX DU CANADA 2019\n",
      "\tMeeting Name : Canadian Grand Prix\n",
      "\tMeeting Circuit Shortname : Montreal\n",
      "\t> Suggested search queries : [['pirelli', 'du', 'canada', '2019'], ['canadian'], ['montreal']]\n",
      "\n",
      "\n"
     ]
    },
    {
     "name": "stdout",
     "output_type": "stream",
     "text": [
      "Not found in 2019\n"
     ]
    },
    {
     "name": "stderr",
     "output_type": "stream",
     "text": [
      "14:43:18 - The identifier couldn't be found.\n",
      "14:43:18 - LiveF1Error - \n",
      "The searched query 'Netherlands' not found in the table. Did you mean one of these :\n",
      "\n",
      "\tMeeting Offname : FORMULA 1 GRANDE PRÊMIO HEINEKEN DO BRASIL 2018\n",
      "\tMeeting Name : Brazilian Grand Prix\n",
      "\tMeeting Circuit Shortname : Interlagos\n",
      "\t> Suggested search queries : [['grande', 'prêmio', 'heineken', 'do', 'brasil', '2018'], ['brazilian'], ['interlagos']]\n",
      "\n",
      "\tMeeting Offname : FORMULA 1 EMIRATES GROSSER PREIS VON DEUTSCHLAND 2018\n",
      "\tMeeting Name : German Grand Prix\n",
      "\tMeeting Circuit Shortname : Hockenheim\n",
      "\t> Suggested search queries : [['emirates', 'grosser', 'preis', 'von', 'deutschland', '2018'], ['german'], ['hockenheim']]\n",
      "\n",
      "\tMeeting Offname : FORMULA 1 GRAND PRIX HEINEKEN DU CANADA 2018\n",
      "\tMeeting Name : Canadian Grand Prix\n",
      "\tMeeting Circuit Shortname : Montreal\n",
      "\t> Suggested search queries : [['heineken', 'du', 'canada', '2018'], ['canadian'], ['montreal']]\n",
      "\n",
      "\n"
     ]
    },
    {
     "name": "stdout",
     "output_type": "stream",
     "text": [
      "Not found in 2018\n",
      "Italy\n"
     ]
    },
    {
     "name": "stderr",
     "output_type": "stream",
     "text": [
      "14:43:20 - The identifier couldn't be found.\n",
      "14:43:20 - LiveF1Error - \n",
      "The searched query 'Italy' not found in the table. Did you mean one of these :\n",
      "\n",
      "\tMeeting Offname : FORMULA 1 PIRELLI GRAN PREMIO D’ITALIA 2024\n",
      "\tMeeting Name : Italian Grand Prix\n",
      "\tMeeting Circuit Shortname : Monza\n",
      "\t> Suggested search queries : [['pirelli', 'gran', 'premio', 'd’italia', '2024'], ['italian'], ['monza']]\n",
      "\n",
      "\tMeeting Offname : FORMULA 1 ARAMCO GRAN PREMIO DE ESPAÑA 2024\n",
      "\tMeeting Name : Spanish Grand Prix\n",
      "\tMeeting Circuit Shortname : Catalunya\n",
      "\t> Suggested search queries : [['aramco', 'gran', 'premio', 'de', 'españa', '2024'], ['spanish'], ['catalunya']]\n",
      "\n",
      "\tMeeting Offname : FORMULA 1 LENOVO GRANDE PRÊMIO DE SÃO PAULO 2024\n",
      "\tMeeting Name : São Paulo Grand Prix\n",
      "\tMeeting Circuit Shortname : Interlagos\n",
      "\t> Suggested search queries : [['lenovo', 'grande', 'prêmio', 'de', 'são', 'paulo', '2024'], ['são', 'paulo'], ['interlagos']]\n",
      "\n",
      "\n"
     ]
    },
    {
     "name": "stdout",
     "output_type": "stream",
     "text": [
      "Not found in 2024\n"
     ]
    },
    {
     "name": "stderr",
     "output_type": "stream",
     "text": [
      "14:43:23 - The identifier couldn't be found.\n",
      "14:43:23 - LiveF1Error - \n",
      "The searched query 'Italy' not found in the table. Did you mean one of these :\n",
      "\n",
      "\tMeeting Offname : FORMULA 1 PIRELLI GRAN PREMIO D’ITALIA 2023 \n",
      "\tMeeting Name : Italian Grand Prix\n",
      "\tMeeting Circuit Shortname : Monza\n",
      "\t> Suggested search queries : [['pirelli', 'gran', 'premio', 'd’italia', '2023', ''], ['italian'], ['monza']]\n",
      "\n",
      "\tMeeting Offname : FORMULA 1 AWS GRAN PREMIO DE ESPAÑA 2023\n",
      "\tMeeting Name : Spanish Grand Prix\n",
      "\tMeeting Circuit Shortname : Catalunya\n",
      "\t> Suggested search queries : [['aws', 'gran', 'premio', 'de', 'españa', '2023'], ['spanish'], ['catalunya']]\n",
      "\n",
      "\tMeeting Offname : FORMULA 1 ROLEX GRANDE PRÊMIO DE SÃO PAULO 2023\n",
      "\tMeeting Name : São Paulo Grand Prix\n",
      "\tMeeting Circuit Shortname : Interlagos\n",
      "\t> Suggested search queries : [['rolex', 'grande', 'prêmio', 'de', 'são', 'paulo', '2023'], ['são', 'paulo'], ['interlagos']]\n",
      "\n",
      "\n",
      "14:43:23 - Endpoint not found: https://livetiming.formula1.com/static/2022/Index.json\n",
      "Traceback (most recent call last):\n",
      "  File \"c:\\Users\\EU10698\\GO\\GO\\Projects\\LiveF1\\livef1\\adapters\\livetimingf1_adapter.py\", line 65, in get\n",
      "    response.raise_for_status()\n",
      "  File \"c:\\Users\\EU10698\\venvs\\goktugPy\\Lib\\site-packages\\requests\\models.py\", line 1024, in raise_for_status\n",
      "    raise HTTPError(http_error_msg, response=self)\n",
      "requests.exceptions.HTTPError: 403 Client Error: Forbidden for url: https://livetiming.formula1.com/static/2022/Index.json\n",
      "14:43:23 - InvalidEndpointError - Endpoint not found: 2022/Index.json\n"
     ]
    },
    {
     "name": "stdout",
     "output_type": "stream",
     "text": [
      "Not found in 2023\n",
      "Not found in 2022\n"
     ]
    },
    {
     "name": "stderr",
     "output_type": "stream",
     "text": [
      "14:43:25 - Selected meeting/session is:\n",
      "\tMeeting Offname : FORMULA 1 PIRELLI GRAN PREMIO DEL MADE IN ITALY E DELL'EMILIA ROMAGNA 2021\n",
      "\tMeeting Name : Emilia Romagna Grand Prix\n",
      "\tMeeting Circuit Shortname : Imola\n",
      "14:43:25 - Got the meeting.\n"
     ]
    },
    {
     "name": "stdout",
     "output_type": "stream",
     "text": [
      "Azerbaijan\n"
     ]
    },
    {
     "name": "stderr",
     "output_type": "stream",
     "text": [
      "14:43:27 - Selected meeting/session is:\n",
      "\tMeeting Offname : FORMULA 1 QATAR AIRWAYS AZERBAIJAN GRAND PRIX 2024\n",
      "\tMeeting Name : Azerbaijan Grand Prix\n",
      "\tMeeting Circuit Shortname : Baku\n",
      "14:43:27 - Got the meeting.\n"
     ]
    },
    {
     "name": "stdout",
     "output_type": "stream",
     "text": [
      "Singapore\n"
     ]
    },
    {
     "name": "stderr",
     "output_type": "stream",
     "text": [
      "14:43:28 - Selected meeting/session is:\n",
      "\tMeeting Offname : FORMULA 1 SINGAPORE AIRLINES SINGAPORE GRAND PRIX 2024\n",
      "\tMeeting Name : Singapore Grand Prix\n",
      "\tMeeting Circuit Shortname : Singapore\n",
      "14:43:28 - Got the meeting.\n"
     ]
    },
    {
     "name": "stdout",
     "output_type": "stream",
     "text": [
      "United States\n"
     ]
    },
    {
     "name": "stderr",
     "output_type": "stream",
     "text": [
      "14:43:30 - Selected meeting/session is:\n",
      "\tMeeting Offname : FORMULA 1 PIRELLI UNITED STATES GRAND PRIX 2024\n",
      "\tMeeting Name : United States Grand Prix\n",
      "\tMeeting Circuit Shortname : Austin\n",
      "14:43:30 - Got the meeting.\n"
     ]
    },
    {
     "name": "stdout",
     "output_type": "stream",
     "text": [
      "Mexico\n"
     ]
    },
    {
     "name": "stderr",
     "output_type": "stream",
     "text": [
      "14:43:32 - Selected meeting/session is:\n",
      "\tMeeting Offname : FORMULA 1 GRAN PREMIO DE LA CIUDAD DE MÉXICO 2024\n",
      "\tMeeting Name : Mexico City Grand Prix\n",
      "\tMeeting Circuit Shortname : Mexico City\n",
      "14:43:32 - Got the meeting.\n"
     ]
    },
    {
     "name": "stdout",
     "output_type": "stream",
     "text": [
      "Brazil\n"
     ]
    },
    {
     "name": "stderr",
     "output_type": "stream",
     "text": [
      "14:43:34 - The identifier couldn't be found.\n",
      "14:43:34 - LiveF1Error - \n",
      "The searched query 'Brazil' not found in the table. Did you mean one of these :\n",
      "\n",
      "\tMeeting Offname : FORMULA 1 QATAR AIRWAYS QATAR GRAND PRIX 2024\n",
      "\tMeeting Name : Qatar Grand Prix\n",
      "\tMeeting Circuit Shortname : Lusail\n",
      "\t> Suggested search queries : [['qatar', 'airways', 'qatar', '2024'], ['qatar'], ['lusail']]\n",
      "\n",
      "\tMeeting Offname : FORMULA 1 QATAR AIRWAYS AZERBAIJAN GRAND PRIX 2024\n",
      "\tMeeting Name : Azerbaijan Grand Prix\n",
      "\tMeeting Circuit Shortname : Baku\n",
      "\t> Suggested search queries : [['qatar', 'airways', 'azerbaijan', '2024'], ['azerbaijan'], ['baku']]\n",
      "\n",
      "\tMeeting Offname : FORMULA 1 QATAR AIRWAYS BRITISH GRAND PRIX 2024\n",
      "\tMeeting Name : British Grand Prix\n",
      "\tMeeting Circuit Shortname : Silverstone\n",
      "\t> Suggested search queries : [['qatar', 'airways', 'british', '2024'], ['british'], ['silverstone']]\n",
      "\n",
      "\n"
     ]
    },
    {
     "name": "stdout",
     "output_type": "stream",
     "text": [
      "Not found in 2024\n"
     ]
    },
    {
     "name": "stderr",
     "output_type": "stream",
     "text": [
      "14:43:36 - The identifier couldn't be found.\n",
      "14:43:36 - LiveF1Error - \n",
      "The searched query 'Brazil' not found in the table. Did you mean one of these :\n",
      "\n",
      "\tMeeting Offname : FORMULA 1 QATAR AIRWAYS QATAR GRAND PRIX 2023\n",
      "\tMeeting Name : Qatar Grand Prix\n",
      "\tMeeting Circuit Shortname : Lusail\n",
      "\t> Suggested search queries : [['qatar', 'airways', 'qatar', '2023'], ['qatar'], ['lusail']]\n",
      "\n",
      "\tMeeting Offname : FORMULA 1 GULF AIR BAHRAIN GRAND PRIX 2023\n",
      "\tMeeting Name : Bahrain Grand Prix\n",
      "\tMeeting Circuit Shortname : Sakhir\n",
      "\t> Suggested search queries : [['gulf', 'air', 'bahrain', '2023'], ['bahrain'], ['sakhir']]\n",
      "\n",
      "\tMeeting Offname : FORMULA 1 AZERBAIJAN GRAND PRIX 2023\n",
      "\tMeeting Name : Azerbaijan Grand Prix\n",
      "\tMeeting Circuit Shortname : Baku\n",
      "\t> Suggested search queries : [['azerbaijan', '2023'], ['azerbaijan'], ['baku']]\n",
      "\n",
      "\n",
      "14:43:36 - Endpoint not found: https://livetiming.formula1.com/static/2022/Index.json\n",
      "Traceback (most recent call last):\n",
      "  File \"c:\\Users\\EU10698\\GO\\GO\\Projects\\LiveF1\\livef1\\adapters\\livetimingf1_adapter.py\", line 65, in get\n",
      "    response.raise_for_status()\n",
      "  File \"c:\\Users\\EU10698\\venvs\\goktugPy\\Lib\\site-packages\\requests\\models.py\", line 1024, in raise_for_status\n",
      "    raise HTTPError(http_error_msg, response=self)\n",
      "requests.exceptions.HTTPError: 403 Client Error: Forbidden for url: https://livetiming.formula1.com/static/2022/Index.json\n",
      "14:43:36 - InvalidEndpointError - Endpoint not found: 2022/Index.json\n"
     ]
    },
    {
     "name": "stdout",
     "output_type": "stream",
     "text": [
      "Not found in 2023\n",
      "Not found in 2022\n"
     ]
    },
    {
     "name": "stderr",
     "output_type": "stream",
     "text": [
      "14:43:38 - The identifier couldn't be found.\n",
      "14:43:38 - LiveF1Error - \n",
      "The searched query 'Brazil' not found in the table. Did you mean one of these :\n",
      "\n",
      "\tMeeting Offname : FORMULA 1 OOREDOO QATAR GRAND PRIX 2021\n",
      "\tMeeting Name : Qatar Grand Prix\n",
      "\tMeeting Circuit Shortname : Losail\n",
      "\t> Suggested search queries : [['ooredoo', 'qatar', '2021'], ['qatar'], ['losail']]\n",
      "\n",
      "\tMeeting Offname : FORMULA 1 GULF AIR BAHRAIN GRAND PRIX 2021\n",
      "\tMeeting Name : Bahrain Grand Prix\n",
      "\tMeeting Circuit Shortname : Sakhir\n",
      "\t> Suggested search queries : [['gulf', 'air', 'bahrain', '2021'], ['bahrain'], ['sakhir']]\n",
      "\n",
      "\tMeeting Offname : FORMULA 1 AZERBAIJAN GRAND PRIX 2021\n",
      "\tMeeting Name : Azerbaijan Grand Prix\n",
      "\tMeeting Circuit Shortname : Baku\n",
      "\t> Suggested search queries : [['azerbaijan', '2021'], ['azerbaijan'], ['baku']]\n",
      "\n",
      "\n"
     ]
    },
    {
     "name": "stdout",
     "output_type": "stream",
     "text": [
      "Not found in 2021\n"
     ]
    },
    {
     "name": "stderr",
     "output_type": "stream",
     "text": [
      "14:43:40 - The identifier couldn't be found.\n",
      "14:43:40 - LiveF1Error - \n",
      "The searched query 'Brazil' not found in the table. Did you mean one of these :\n",
      "\n",
      "\tMeeting Offname : FORMULA 1 GULF AIR BAHRAIN GRAND PRIX 2020\n",
      "\tMeeting Name : Bahrain Grand Prix\n",
      "\tMeeting Circuit Shortname : Sakhir\n",
      "\t> Suggested search queries : [['gulf', 'air', 'bahrain', '2020'], ['bahrain'], ['sakhir']]\n",
      "\n",
      "\tMeeting Offname : FORMULA 1 PIRELLI BRITISH GRAND PRIX 2020\n",
      "\tMeeting Name : British Grand Prix\n",
      "\tMeeting Circuit Shortname : Silverstone\n",
      "\t> Suggested search queries : [['pirelli', 'british', '2020'], ['british'], ['silverstone']]\n",
      "\n",
      "\tMeeting Offname : FORMULA 1 VTB RUSSIAN GRAND PRIX 2020\n",
      "\tMeeting Name : Russian Grand Prix\n",
      "\tMeeting Circuit Shortname : Sochi\n",
      "\t> Suggested search queries : [['vtb', 'russian', '2020'], ['russian'], ['sochi']]\n",
      "\n",
      "\n"
     ]
    },
    {
     "name": "stdout",
     "output_type": "stream",
     "text": [
      "Not found in 2020\n"
     ]
    },
    {
     "name": "stderr",
     "output_type": "stream",
     "text": [
      "14:43:43 - The identifier couldn't be found.\n",
      "14:43:43 - The identifier is very close to 'Brazilian Grand Prix' at column 'MEETING NAME'\n",
      "14:43:43 - Selected meeting/session is:\n",
      "\tMeeting Offname : FORMULA 1 HEINEKEN GRANDE PRÊMIO DO BRASIL 2019\n",
      "\tMeeting Name : Brazilian Grand Prix\n",
      "\tMeeting Circuit Shortname : Interlagos\n",
      "14:43:43 - Got the meeting.\n"
     ]
    },
    {
     "name": "stdout",
     "output_type": "stream",
     "text": [
      "Las Vegas\n"
     ]
    },
    {
     "name": "stderr",
     "output_type": "stream",
     "text": [
      "14:43:44 - Selected meeting/session is:\n",
      "\tMeeting Offname : FORMULA 1 HEINEKEN SILVER LAS VEGAS GRAND PRIX 2024\n",
      "\tMeeting Name : Las Vegas Grand Prix\n",
      "\tMeeting Circuit Shortname : Las Vegas\n",
      "14:43:44 - Got the meeting.\n"
     ]
    },
    {
     "name": "stdout",
     "output_type": "stream",
     "text": [
      "Qatar\n"
     ]
    },
    {
     "name": "stderr",
     "output_type": "stream",
     "text": [
      "14:43:46 - Selected meeting/session is:\n",
      "\tMeeting Offname : FORMULA 1 QATAR AIRWAYS QATAR GRAND PRIX 2024\n",
      "\tMeeting Name : Qatar Grand Prix\n",
      "\tMeeting Circuit Shortname : Lusail\n",
      "14:43:46 - Got the meeting.\n"
     ]
    },
    {
     "name": "stdout",
     "output_type": "stream",
     "text": [
      "Abu Dhabi\n"
     ]
    },
    {
     "name": "stderr",
     "output_type": "stream",
     "text": [
      "14:43:47 - Selected meeting/session is:\n",
      "\tMeeting Offname : FORMULA 1 ETIHAD AIRWAYS ABU DHABI GRAND PRIX 2024\n",
      "\tMeeting Name : Abu Dhabi Grand Prix\n",
      "\tMeeting Circuit Shortname : Yas Marina Circuit\n",
      "14:43:47 - Got the meeting.\n"
     ]
    }
   ],
   "source": [
    "for c in schedule[\"Meeting Circuit Shortname\"].unique():\n",
    "    print(c)\n",
    "    for year in [2024,2023,2022,2021,2020,2019,2018]:\n",
    "        try:\n",
    "            m = livef1.get_meeting(year, c)\n",
    "            break\n",
    "        except: \n",
    "            print(f\"Not found in {year}\")"
   ]
  }
 ],
 "metadata": {
  "kernelspec": {
   "display_name": ".venv",
   "language": "python",
   "name": "python3"
  },
  "language_info": {
   "codemirror_mode": {
    "name": "ipython",
    "version": 3
   },
   "file_extension": ".py",
   "mimetype": "text/x-python",
   "name": "python",
   "nbconvert_exporter": "python",
   "pygments_lexer": "ipython3",
   "version": "3.12.3"
  }
 },
 "nbformat": 4,
 "nbformat_minor": 5
}
